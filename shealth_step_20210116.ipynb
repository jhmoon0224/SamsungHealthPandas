{
 "cells": [
  {
   "cell_type": "code",
   "execution_count": 202,
   "metadata": {},
   "outputs": [],
   "source": [
    "import numpy as np\n",
    "import pandas as pd\n",
    "import os\n",
    "from glob import glob\n",
    "import matplotlib.pyplot as plt\n",
    "import seaborn as sns\n"
   ]
  },
  {
   "cell_type": "code",
   "execution_count": 203,
   "metadata": {},
   "outputs": [],
   "source": [
    "samsung_base_dir = r'D:\\MyDocuments\\Downloads\\samsunghealth_toanyone_202101111626\\samsunghealth_toanyone_202101111626'"
   ]
  },
  {
   "cell_type": "code",
   "execution_count": 206,
   "metadata": {},
   "outputs": [
    {
     "name": "stdout",
     "output_type": "stream",
     "text": [
      "59 dumps found, taking first: com.samsung.health.caffeine_intake.202101111626.csv\n",
      "0 csvs found\n",
      "0 jsons found\n"
     ]
    }
   ],
   "source": [
    "samsung_dump_dirs = glob(os.path.join(samsung_base_dir, '*'))\n",
    "samsung_dump_dir = os.path.basename(samsung_dump_dirs[0])\n",
    "print(len(samsung_dump_dirs), 'dumps found, taking first:', samsung_dump_dir)\n",
    "\n",
    "samsung_csv_paths = glob(os.path.join(samsung_base_dir, samsung_dump_dir, '*.csv'))\n",
    "print(len(samsung_csv_paths), 'csvs found')\n",
    "samsung_json_paths = glob(os.path.join(samsung_base_dir, samsung_dump_dir, 'jsons', '*',  '*.json'))\n",
    "print(len(samsung_json_paths), 'jsons found')"
   ]
  },
  {
   "cell_type": "code",
   "execution_count": 351,
   "metadata": {},
   "outputs": [],
   "source": [
    "step_df = pd.read_csv(samsung_base_dir + '\\com.samsung.shealth.step_daily_trend.202101111626.csv', index_col=False)"
   ]
  },
  {
   "cell_type": "markdown",
   "metadata": {},
   "source": [
    "우선 Dataframe 구조를 한번 확인해 보자"
   ]
  },
  {
   "cell_type": "code",
   "execution_count": 352,
   "metadata": {},
   "outputs": [
    {
     "data": {
      "text/html": [
       "<div>\n",
       "<style scoped>\n",
       "    .dataframe tbody tr th:only-of-type {\n",
       "        vertical-align: middle;\n",
       "    }\n",
       "\n",
       "    .dataframe tbody tr th {\n",
       "        vertical-align: top;\n",
       "    }\n",
       "\n",
       "    .dataframe thead th {\n",
       "        text-align: right;\n",
       "    }\n",
       "</style>\n",
       "<table border=\"1\" class=\"dataframe\">\n",
       "  <thead>\n",
       "    <tr style=\"text-align: right;\">\n",
       "      <th></th>\n",
       "      <th>binning_data</th>\n",
       "      <th>update_time</th>\n",
       "      <th>create_time</th>\n",
       "      <th>source_pkg_name</th>\n",
       "      <th>source_type</th>\n",
       "      <th>count</th>\n",
       "      <th>speed</th>\n",
       "      <th>distance</th>\n",
       "      <th>calorie</th>\n",
       "      <th>deviceuuid</th>\n",
       "      <th>pkg_name</th>\n",
       "      <th>datauuid</th>\n",
       "      <th>day_time</th>\n",
       "    </tr>\n",
       "  </thead>\n",
       "  <tbody>\n",
       "    <tr>\n",
       "      <th>0</th>\n",
       "      <td>a77e3f6b-b39a-48ac-8015-1acfc94a9f6c.binning_d...</td>\n",
       "      <td>2019-06-03 22:13:00.592</td>\n",
       "      <td>2019-06-03 22:13:00.592</td>\n",
       "      <td>com.sec.android.app.shealth</td>\n",
       "      <td>0</td>\n",
       "      <td>6576</td>\n",
       "      <td>0.0</td>\n",
       "      <td>5443.92</td>\n",
       "      <td>294.96008</td>\n",
       "      <td>Dl8L2b9Gg3</td>\n",
       "      <td>com.sec.android.app.shealth</td>\n",
       "      <td>a77e3f6b-b39a-48ac-8015-1acfc94a9f6c</td>\n",
       "      <td>1429920000000</td>\n",
       "    </tr>\n",
       "    <tr>\n",
       "      <th>1</th>\n",
       "      <td>74c33458-6a2e-47c3-baee-6ca703312412.binning_d...</td>\n",
       "      <td>2019-06-03 22:13:00.584</td>\n",
       "      <td>2019-06-03 22:13:00.584</td>\n",
       "      <td>com.sec.android.app.shealth</td>\n",
       "      <td>0</td>\n",
       "      <td>7164</td>\n",
       "      <td>0.0</td>\n",
       "      <td>5798.46</td>\n",
       "      <td>305.13004</td>\n",
       "      <td>Dl8L2b9Gg3</td>\n",
       "      <td>com.sec.android.app.shealth</td>\n",
       "      <td>74c33458-6a2e-47c3-baee-6ca703312412</td>\n",
       "      <td>1429833600000</td>\n",
       "    </tr>\n",
       "    <tr>\n",
       "      <th>2</th>\n",
       "      <td>b8410545-6c6f-47eb-96a1-95c5f563f63a.binning_d...</td>\n",
       "      <td>2019-06-03 22:13:00.599</td>\n",
       "      <td>2019-06-03 22:13:00.599</td>\n",
       "      <td>com.sec.android.app.shealth</td>\n",
       "      <td>0</td>\n",
       "      <td>5643</td>\n",
       "      <td>0.0</td>\n",
       "      <td>4674.95</td>\n",
       "      <td>254.93005</td>\n",
       "      <td>Dl8L2b9Gg3</td>\n",
       "      <td>com.sec.android.app.shealth</td>\n",
       "      <td>b8410545-6c6f-47eb-96a1-95c5f563f63a</td>\n",
       "      <td>1430438400000</td>\n",
       "    </tr>\n",
       "    <tr>\n",
       "      <th>3</th>\n",
       "      <td>02f7155a-bdd2-4e3b-b944-9af7db9e1731.binning_d...</td>\n",
       "      <td>2019-06-03 22:13:00.599</td>\n",
       "      <td>2019-06-03 22:13:00.599</td>\n",
       "      <td>com.sec.android.app.shealth</td>\n",
       "      <td>0</td>\n",
       "      <td>9718</td>\n",
       "      <td>0.0</td>\n",
       "      <td>8103.29</td>\n",
       "      <td>421.40005</td>\n",
       "      <td>Dl8L2b9Gg3</td>\n",
       "      <td>com.sec.android.app.shealth</td>\n",
       "      <td>02f7155a-bdd2-4e3b-b944-9af7db9e1731</td>\n",
       "      <td>1430352000000</td>\n",
       "    </tr>\n",
       "    <tr>\n",
       "      <th>4</th>\n",
       "      <td>b3367ef8-f532-4723-9bf0-a2c1f74bf721.binning_d...</td>\n",
       "      <td>2019-06-03 22:13:00.598</td>\n",
       "      <td>2019-06-03 22:13:00.598</td>\n",
       "      <td>com.sec.android.app.shealth</td>\n",
       "      <td>0</td>\n",
       "      <td>11072</td>\n",
       "      <td>0.0</td>\n",
       "      <td>9119.21</td>\n",
       "      <td>511.30010</td>\n",
       "      <td>Dl8L2b9Gg3</td>\n",
       "      <td>com.sec.android.app.shealth</td>\n",
       "      <td>b3367ef8-f532-4723-9bf0-a2c1f74bf721</td>\n",
       "      <td>1430092800000</td>\n",
       "    </tr>\n",
       "  </tbody>\n",
       "</table>\n",
       "</div>"
      ],
      "text/plain": [
       "                                        binning_data              update_time  \\\n",
       "0  a77e3f6b-b39a-48ac-8015-1acfc94a9f6c.binning_d...  2019-06-03 22:13:00.592   \n",
       "1  74c33458-6a2e-47c3-baee-6ca703312412.binning_d...  2019-06-03 22:13:00.584   \n",
       "2  b8410545-6c6f-47eb-96a1-95c5f563f63a.binning_d...  2019-06-03 22:13:00.599   \n",
       "3  02f7155a-bdd2-4e3b-b944-9af7db9e1731.binning_d...  2019-06-03 22:13:00.599   \n",
       "4  b3367ef8-f532-4723-9bf0-a2c1f74bf721.binning_d...  2019-06-03 22:13:00.598   \n",
       "\n",
       "               create_time              source_pkg_name  source_type  count  \\\n",
       "0  2019-06-03 22:13:00.592  com.sec.android.app.shealth            0   6576   \n",
       "1  2019-06-03 22:13:00.584  com.sec.android.app.shealth            0   7164   \n",
       "2  2019-06-03 22:13:00.599  com.sec.android.app.shealth            0   5643   \n",
       "3  2019-06-03 22:13:00.599  com.sec.android.app.shealth            0   9718   \n",
       "4  2019-06-03 22:13:00.598  com.sec.android.app.shealth            0  11072   \n",
       "\n",
       "   speed  distance    calorie  deviceuuid                     pkg_name  \\\n",
       "0    0.0   5443.92  294.96008  Dl8L2b9Gg3  com.sec.android.app.shealth   \n",
       "1    0.0   5798.46  305.13004  Dl8L2b9Gg3  com.sec.android.app.shealth   \n",
       "2    0.0   4674.95  254.93005  Dl8L2b9Gg3  com.sec.android.app.shealth   \n",
       "3    0.0   8103.29  421.40005  Dl8L2b9Gg3  com.sec.android.app.shealth   \n",
       "4    0.0   9119.21  511.30010  Dl8L2b9Gg3  com.sec.android.app.shealth   \n",
       "\n",
       "                               datauuid       day_time  \n",
       "0  a77e3f6b-b39a-48ac-8015-1acfc94a9f6c  1429920000000  \n",
       "1  74c33458-6a2e-47c3-baee-6ca703312412  1429833600000  \n",
       "2  b8410545-6c6f-47eb-96a1-95c5f563f63a  1430438400000  \n",
       "3  02f7155a-bdd2-4e3b-b944-9af7db9e1731  1430352000000  \n",
       "4  b3367ef8-f532-4723-9bf0-a2c1f74bf721  1430092800000  "
      ]
     },
     "execution_count": 352,
     "metadata": {},
     "output_type": "execute_result"
    }
   ],
   "source": [
    "step_df.head(5)"
   ]
  },
  {
   "cell_type": "code",
   "execution_count": 353,
   "metadata": {},
   "outputs": [
    {
     "name": "stdout",
     "output_type": "stream",
     "text": [
      "<class 'pandas.core.frame.DataFrame'>\n",
      "RangeIndex: 4535 entries, 0 to 4534\n",
      "Data columns (total 13 columns):\n",
      " #   Column           Non-Null Count  Dtype  \n",
      "---  ------           --------------  -----  \n",
      " 0   binning_data     4535 non-null   object \n",
      " 1   update_time      4535 non-null   object \n",
      " 2   create_time      4535 non-null   object \n",
      " 3   source_pkg_name  4535 non-null   object \n",
      " 4   source_type      4535 non-null   int64  \n",
      " 5   count            4535 non-null   int64  \n",
      " 6   speed            4535 non-null   float64\n",
      " 7   distance         4535 non-null   float64\n",
      " 8   calorie          4535 non-null   float64\n",
      " 9   deviceuuid       4535 non-null   object \n",
      " 10  pkg_name         4535 non-null   object \n",
      " 11  datauuid         4535 non-null   object \n",
      " 12  day_time         4535 non-null   int64  \n",
      "dtypes: float64(3), int64(3), object(7)\n",
      "memory usage: 460.7+ KB\n"
     ]
    }
   ],
   "source": [
    "step_df.info()"
   ]
  },
  {
   "cell_type": "markdown",
   "metadata": {},
   "source": [
    "불필요한 Colummn 을 삭제하자.\n",
    " - 모든 값이 NA인  Column\n",
    " - 모든 값이동일한 Column"
   ]
  },
  {
   "cell_type": "code",
   "execution_count": 354,
   "metadata": {},
   "outputs": [],
   "source": [
    "step_df.drop(['binning_data', 'update_time', 'create_time' , 'source_pkg_name', 'pkg_name', 'datauuid'], axis=1 , inplace=True)"
   ]
  },
  {
   "cell_type": "code",
   "execution_count": 355,
   "metadata": {},
   "outputs": [],
   "source": [
    "step_df['day_time'] = pd.to_datetime(step_df['day_time'], unit='ms')"
   ]
  },
  {
   "cell_type": "code",
   "execution_count": 356,
   "metadata": {},
   "outputs": [],
   "source": [
    "step_df.set_index('day_time', inplace=True)\n"
   ]
  },
  {
   "cell_type": "code",
   "execution_count": 357,
   "metadata": {},
   "outputs": [],
   "source": [
    "step_df.sort_index(inplace=True)"
   ]
  },
  {
   "cell_type": "code",
   "execution_count": 358,
   "metadata": {},
   "outputs": [
    {
     "name": "stdout",
     "output_type": "stream",
     "text": [
      "<class 'pandas.core.frame.DataFrame'>\n",
      "DatetimeIndex: 4535 entries, 2015-04-24 to 2021-01-11\n",
      "Data columns (total 6 columns):\n",
      " #   Column       Non-Null Count  Dtype  \n",
      "---  ------       --------------  -----  \n",
      " 0   source_type  4535 non-null   int64  \n",
      " 1   count        4535 non-null   int64  \n",
      " 2   speed        4535 non-null   float64\n",
      " 3   distance     4535 non-null   float64\n",
      " 4   calorie      4535 non-null   float64\n",
      " 5   deviceuuid   4535 non-null   object \n",
      "dtypes: float64(3), int64(2), object(1)\n",
      "memory usage: 248.0+ KB\n"
     ]
    }
   ],
   "source": [
    "step_df.info()"
   ]
  },
  {
   "cell_type": "code",
   "execution_count": 359,
   "metadata": {},
   "outputs": [
    {
     "data": {
      "text/html": [
       "<div>\n",
       "<style scoped>\n",
       "    .dataframe tbody tr th:only-of-type {\n",
       "        vertical-align: middle;\n",
       "    }\n",
       "\n",
       "    .dataframe tbody tr th {\n",
       "        vertical-align: top;\n",
       "    }\n",
       "\n",
       "    .dataframe thead th {\n",
       "        text-align: right;\n",
       "    }\n",
       "</style>\n",
       "<table border=\"1\" class=\"dataframe\">\n",
       "  <thead>\n",
       "    <tr style=\"text-align: right;\">\n",
       "      <th></th>\n",
       "      <th>source_type</th>\n",
       "      <th>count</th>\n",
       "      <th>speed</th>\n",
       "      <th>distance</th>\n",
       "      <th>calorie</th>\n",
       "      <th>deviceuuid</th>\n",
       "    </tr>\n",
       "    <tr>\n",
       "      <th>day_time</th>\n",
       "      <th></th>\n",
       "      <th></th>\n",
       "      <th></th>\n",
       "      <th></th>\n",
       "      <th></th>\n",
       "      <th></th>\n",
       "    </tr>\n",
       "  </thead>\n",
       "  <tbody>\n",
       "    <tr>\n",
       "      <th>2021-01-09</th>\n",
       "      <td>25</td>\n",
       "      <td>965</td>\n",
       "      <td>0.176426</td>\n",
       "      <td>762.16064</td>\n",
       "      <td>35.721222</td>\n",
       "      <td>DJo8vkp+Bl</td>\n",
       "    </tr>\n",
       "    <tr>\n",
       "      <th>2021-01-10</th>\n",
       "      <td>-2</td>\n",
       "      <td>933</td>\n",
       "      <td>0.223130</td>\n",
       "      <td>735.79670</td>\n",
       "      <td>35.208702</td>\n",
       "      <td>VfS0qUERdZ</td>\n",
       "    </tr>\n",
       "    <tr>\n",
       "      <th>2021-01-10</th>\n",
       "      <td>0</td>\n",
       "      <td>244</td>\n",
       "      <td>1.448929</td>\n",
       "      <td>192.18000</td>\n",
       "      <td>9.920000</td>\n",
       "      <td>Dl8L2b9Gg3</td>\n",
       "    </tr>\n",
       "    <tr>\n",
       "      <th>2021-01-10</th>\n",
       "      <td>25</td>\n",
       "      <td>714</td>\n",
       "      <td>0.176694</td>\n",
       "      <td>561.88670</td>\n",
       "      <td>26.168701</td>\n",
       "      <td>DJo8vkp+Bl</td>\n",
       "    </tr>\n",
       "    <tr>\n",
       "      <th>2021-01-11</th>\n",
       "      <td>-2</td>\n",
       "      <td>2691</td>\n",
       "      <td>0.761706</td>\n",
       "      <td>2006.92070</td>\n",
       "      <td>114.600390</td>\n",
       "      <td>VfS0qUERdZ</td>\n",
       "    </tr>\n",
       "  </tbody>\n",
       "</table>\n",
       "</div>"
      ],
      "text/plain": [
       "            source_type  count     speed    distance     calorie  deviceuuid\n",
       "day_time                                                                    \n",
       "2021-01-09           25    965  0.176426   762.16064   35.721222  DJo8vkp+Bl\n",
       "2021-01-10           -2    933  0.223130   735.79670   35.208702  VfS0qUERdZ\n",
       "2021-01-10            0    244  1.448929   192.18000    9.920000  Dl8L2b9Gg3\n",
       "2021-01-10           25    714  0.176694   561.88670   26.168701  DJo8vkp+Bl\n",
       "2021-01-11           -2   2691  0.761706  2006.92070  114.600390  VfS0qUERdZ"
      ]
     },
     "execution_count": 359,
     "metadata": {},
     "output_type": "execute_result"
    }
   ],
   "source": [
    "step_df.tail(5)"
   ]
  },
  {
   "cell_type": "code",
   "execution_count": 360,
   "metadata": {},
   "outputs": [
    {
     "data": {
      "text/html": [
       "<div>\n",
       "<style scoped>\n",
       "    .dataframe tbody tr th:only-of-type {\n",
       "        vertical-align: middle;\n",
       "    }\n",
       "\n",
       "    .dataframe tbody tr th {\n",
       "        vertical-align: top;\n",
       "    }\n",
       "\n",
       "    .dataframe thead th {\n",
       "        text-align: right;\n",
       "    }\n",
       "</style>\n",
       "<table border=\"1\" class=\"dataframe\">\n",
       "  <thead>\n",
       "    <tr style=\"text-align: right;\">\n",
       "      <th></th>\n",
       "      <th>source_type</th>\n",
       "      <th>count</th>\n",
       "      <th>speed</th>\n",
       "      <th>distance</th>\n",
       "      <th>calorie</th>\n",
       "      <th>deviceuuid</th>\n",
       "    </tr>\n",
       "    <tr>\n",
       "      <th>day_time</th>\n",
       "      <th></th>\n",
       "      <th></th>\n",
       "      <th></th>\n",
       "      <th></th>\n",
       "      <th></th>\n",
       "      <th></th>\n",
       "    </tr>\n",
       "  </thead>\n",
       "  <tbody>\n",
       "    <tr>\n",
       "      <th>2015-04-24</th>\n",
       "      <td>0</td>\n",
       "      <td>7164</td>\n",
       "      <td>0.0</td>\n",
       "      <td>5798.4600</td>\n",
       "      <td>305.13004</td>\n",
       "      <td>Dl8L2b9Gg3</td>\n",
       "    </tr>\n",
       "    <tr>\n",
       "      <th>2015-04-24</th>\n",
       "      <td>-2</td>\n",
       "      <td>7164</td>\n",
       "      <td>0.0</td>\n",
       "      <td>5798.4600</td>\n",
       "      <td>305.13004</td>\n",
       "      <td>VfS0qUERdZ</td>\n",
       "    </tr>\n",
       "    <tr>\n",
       "      <th>2015-04-25</th>\n",
       "      <td>0</td>\n",
       "      <td>6576</td>\n",
       "      <td>0.0</td>\n",
       "      <td>5443.9200</td>\n",
       "      <td>294.96008</td>\n",
       "      <td>Dl8L2b9Gg3</td>\n",
       "    </tr>\n",
       "    <tr>\n",
       "      <th>2015-04-25</th>\n",
       "      <td>-2</td>\n",
       "      <td>6576</td>\n",
       "      <td>0.0</td>\n",
       "      <td>5443.9200</td>\n",
       "      <td>294.96008</td>\n",
       "      <td>VfS0qUERdZ</td>\n",
       "    </tr>\n",
       "    <tr>\n",
       "      <th>2015-04-26</th>\n",
       "      <td>-2</td>\n",
       "      <td>5311</td>\n",
       "      <td>0.0</td>\n",
       "      <td>4299.0405</td>\n",
       "      <td>221.36002</td>\n",
       "      <td>VfS0qUERdZ</td>\n",
       "    </tr>\n",
       "  </tbody>\n",
       "</table>\n",
       "</div>"
      ],
      "text/plain": [
       "            source_type  count  speed   distance    calorie  deviceuuid\n",
       "day_time                                                               \n",
       "2015-04-24            0   7164    0.0  5798.4600  305.13004  Dl8L2b9Gg3\n",
       "2015-04-24           -2   7164    0.0  5798.4600  305.13004  VfS0qUERdZ\n",
       "2015-04-25            0   6576    0.0  5443.9200  294.96008  Dl8L2b9Gg3\n",
       "2015-04-25           -2   6576    0.0  5443.9200  294.96008  VfS0qUERdZ\n",
       "2015-04-26           -2   5311    0.0  4299.0405  221.36002  VfS0qUERdZ"
      ]
     },
     "execution_count": 360,
     "metadata": {},
     "output_type": "execute_result"
    }
   ],
   "source": [
    "step_df.head(5)"
   ]
  },
  {
   "cell_type": "code",
   "execution_count": null,
   "metadata": {},
   "outputs": [],
   "source": []
  },
  {
   "cell_type": "code",
   "execution_count": 361,
   "metadata": {},
   "outputs": [
    {
     "data": {
      "text/plain": [
       "VfS0qUERdZ    1542\n",
       "Dl8L2b9Gg3    1536\n",
       "NHQ4s4ZY05     811\n",
       "NZJQ7Yrbs4     542\n",
       "DJo8vkp+Bl      94\n",
       "/qAMI8DMGU       7\n",
       "GmuukhNhxx       3\n",
       "Name: deviceuuid, dtype: int64"
      ]
     },
     "execution_count": 361,
     "metadata": {},
     "output_type": "execute_result"
    }
   ],
   "source": [
    "step_df['deviceuuid'].value_counts()"
   ]
  },
  {
   "cell_type": "markdown",
   "metadata": {},
   "source": [
    "'''\n",
    " * NHQ4s4ZY05 (Gear S2)   811\n",
    " * NZJQ7Yrbs4(Galaxy Watch Active)    542\n",
    " * DJo8vkp+Bl (Galaxy Fit2) 94\n",
    "'''       7"
   ]
  },
  {
   "cell_type": "code",
   "execution_count": null,
   "metadata": {},
   "outputs": [],
   "source": []
  },
  {
   "cell_type": "code",
   "execution_count": 362,
   "metadata": {},
   "outputs": [],
   "source": [
    "wearable_steps_df = step_df.loc[(step_df['deviceuuid'] == 'DJo8vkp+Bl')|\n",
    "                    (step_df['deviceuuid'] == 'NHQ4s4ZY05') |\n",
    "                     ( step_df['deviceuuid'] == 'NZJQ7Yrbs4') ]"
   ]
  },
  {
   "cell_type": "code",
   "execution_count": 365,
   "metadata": {},
   "outputs": [
    {
     "name": "stderr",
     "output_type": "stream",
     "text": [
      "D:\\MyDocuments\\anaconda3\\lib\\site-packages\\pandas\\core\\frame.py:4379: SettingWithCopyWarning: \n",
      "A value is trying to be set on a copy of a slice from a DataFrame\n",
      "\n",
      "See the caveats in the documentation: https://pandas.pydata.org/pandas-docs/stable/user_guide/indexing.html#returning-a-view-versus-a-copy\n",
      "  return super().replace(\n"
     ]
    }
   ],
   "source": [
    "wearable_steps_df.replace( {'NHQ4s4ZY05':'GearS2', \n",
    "                            'NZJQ7Yrbs4':'GalaxyWatchActive',\n",
    "                            'DJo8vkp+Bl':'Galaxy Fit2'}, inplace=True)"
   ]
  },
  {
   "cell_type": "code",
   "execution_count": 366,
   "metadata": {},
   "outputs": [
    {
     "data": {
      "text/plain": [
       "GearS2               811\n",
       "GalaxyWatchActive    542\n",
       "Galaxy Fit2           94\n",
       "Name: deviceuuid, dtype: int64"
      ]
     },
     "execution_count": 366,
     "metadata": {},
     "output_type": "execute_result"
    }
   ],
   "source": [
    "wearable_steps_df['deviceuuid'].value_counts()"
   ]
  },
  {
   "cell_type": "code",
   "execution_count": 367,
   "metadata": {},
   "outputs": [],
   "source": [
    "activ_df = wearable_steps_df.loc[wearable_steps_df['deviceuuid'] == 'GalaxyWatchActive']"
   ]
  },
  {
   "cell_type": "code",
   "execution_count": 369,
   "metadata": {},
   "outputs": [
    {
     "data": {
      "text/html": [
       "<div>\n",
       "<style scoped>\n",
       "    .dataframe tbody tr th:only-of-type {\n",
       "        vertical-align: middle;\n",
       "    }\n",
       "\n",
       "    .dataframe tbody tr th {\n",
       "        vertical-align: top;\n",
       "    }\n",
       "\n",
       "    .dataframe thead th {\n",
       "        text-align: right;\n",
       "    }\n",
       "</style>\n",
       "<table border=\"1\" class=\"dataframe\">\n",
       "  <thead>\n",
       "    <tr style=\"text-align: right;\">\n",
       "      <th></th>\n",
       "      <th>source_type</th>\n",
       "      <th>count</th>\n",
       "      <th>speed</th>\n",
       "      <th>distance</th>\n",
       "      <th>calorie</th>\n",
       "      <th>deviceuuid</th>\n",
       "    </tr>\n",
       "    <tr>\n",
       "      <th>day_time</th>\n",
       "      <th></th>\n",
       "      <th></th>\n",
       "      <th></th>\n",
       "      <th></th>\n",
       "      <th></th>\n",
       "      <th></th>\n",
       "    </tr>\n",
       "  </thead>\n",
       "  <tbody>\n",
       "    <tr>\n",
       "      <th>2019-03-20</th>\n",
       "      <td>19</td>\n",
       "      <td>435</td>\n",
       "      <td>2.638889</td>\n",
       "      <td>314.350</td>\n",
       "      <td>16.70</td>\n",
       "      <td>GalaxyWatchActive</td>\n",
       "    </tr>\n",
       "    <tr>\n",
       "      <th>2019-03-21</th>\n",
       "      <td>19</td>\n",
       "      <td>10821</td>\n",
       "      <td>5.666666</td>\n",
       "      <td>7996.019</td>\n",
       "      <td>418.27</td>\n",
       "      <td>GalaxyWatchActive</td>\n",
       "    </tr>\n",
       "    <tr>\n",
       "      <th>2019-03-22</th>\n",
       "      <td>19</td>\n",
       "      <td>7782</td>\n",
       "      <td>5.980663</td>\n",
       "      <td>5585.935</td>\n",
       "      <td>336.95</td>\n",
       "      <td>GalaxyWatchActive</td>\n",
       "    </tr>\n",
       "    <tr>\n",
       "      <th>2019-03-23</th>\n",
       "      <td>19</td>\n",
       "      <td>1527</td>\n",
       "      <td>2.166667</td>\n",
       "      <td>1041.029</td>\n",
       "      <td>56.66</td>\n",
       "      <td>GalaxyWatchActive</td>\n",
       "    </tr>\n",
       "    <tr>\n",
       "      <th>2019-03-24</th>\n",
       "      <td>19</td>\n",
       "      <td>1444</td>\n",
       "      <td>4.138889</td>\n",
       "      <td>1004.200</td>\n",
       "      <td>64.60</td>\n",
       "      <td>GalaxyWatchActive</td>\n",
       "    </tr>\n",
       "  </tbody>\n",
       "</table>\n",
       "</div>"
      ],
      "text/plain": [
       "            source_type  count     speed  distance  calorie         deviceuuid\n",
       "day_time                                                                      \n",
       "2019-03-20           19    435  2.638889   314.350    16.70  GalaxyWatchActive\n",
       "2019-03-21           19  10821  5.666666  7996.019   418.27  GalaxyWatchActive\n",
       "2019-03-22           19   7782  5.980663  5585.935   336.95  GalaxyWatchActive\n",
       "2019-03-23           19   1527  2.166667  1041.029    56.66  GalaxyWatchActive\n",
       "2019-03-24           19   1444  4.138889  1004.200    64.60  GalaxyWatchActive"
      ]
     },
     "execution_count": 369,
     "metadata": {},
     "output_type": "execute_result"
    }
   ],
   "source": [
    "activ_df.head(5)"
   ]
  },
  {
   "cell_type": "code",
   "execution_count": 370,
   "metadata": {},
   "outputs": [
    {
     "data": {
      "text/html": [
       "<div>\n",
       "<style scoped>\n",
       "    .dataframe tbody tr th:only-of-type {\n",
       "        vertical-align: middle;\n",
       "    }\n",
       "\n",
       "    .dataframe tbody tr th {\n",
       "        vertical-align: top;\n",
       "    }\n",
       "\n",
       "    .dataframe thead th {\n",
       "        text-align: right;\n",
       "    }\n",
       "</style>\n",
       "<table border=\"1\" class=\"dataframe\">\n",
       "  <thead>\n",
       "    <tr style=\"text-align: right;\">\n",
       "      <th></th>\n",
       "      <th>source_type</th>\n",
       "      <th>count</th>\n",
       "      <th>speed</th>\n",
       "      <th>distance</th>\n",
       "      <th>calorie</th>\n",
       "      <th>deviceuuid</th>\n",
       "    </tr>\n",
       "    <tr>\n",
       "      <th>day_time</th>\n",
       "      <th></th>\n",
       "      <th></th>\n",
       "      <th></th>\n",
       "      <th></th>\n",
       "      <th></th>\n",
       "      <th></th>\n",
       "    </tr>\n",
       "  </thead>\n",
       "  <tbody>\n",
       "    <tr>\n",
       "      <th>2020-09-29</th>\n",
       "      <td>19</td>\n",
       "      <td>3130</td>\n",
       "      <td>1.547398</td>\n",
       "      <td>2491.723</td>\n",
       "      <td>129.228</td>\n",
       "      <td>GalaxyWatchActive</td>\n",
       "    </tr>\n",
       "    <tr>\n",
       "      <th>2020-09-30</th>\n",
       "      <td>19</td>\n",
       "      <td>5677</td>\n",
       "      <td>1.500148</td>\n",
       "      <td>4356.190</td>\n",
       "      <td>227.149</td>\n",
       "      <td>GalaxyWatchActive</td>\n",
       "    </tr>\n",
       "    <tr>\n",
       "      <th>2020-10-01</th>\n",
       "      <td>19</td>\n",
       "      <td>9336</td>\n",
       "      <td>1.466699</td>\n",
       "      <td>6712.877</td>\n",
       "      <td>371.359</td>\n",
       "      <td>GalaxyWatchActive</td>\n",
       "    </tr>\n",
       "    <tr>\n",
       "      <th>2020-10-02</th>\n",
       "      <td>19</td>\n",
       "      <td>3016</td>\n",
       "      <td>1.502393</td>\n",
       "      <td>2358.916</td>\n",
       "      <td>122.347</td>\n",
       "      <td>GalaxyWatchActive</td>\n",
       "    </tr>\n",
       "    <tr>\n",
       "      <th>2020-10-03</th>\n",
       "      <td>19</td>\n",
       "      <td>458</td>\n",
       "      <td>1.557770</td>\n",
       "      <td>357.213</td>\n",
       "      <td>19.520</td>\n",
       "      <td>GalaxyWatchActive</td>\n",
       "    </tr>\n",
       "  </tbody>\n",
       "</table>\n",
       "</div>"
      ],
      "text/plain": [
       "            source_type  count     speed  distance  calorie         deviceuuid\n",
       "day_time                                                                      \n",
       "2020-09-29           19   3130  1.547398  2491.723  129.228  GalaxyWatchActive\n",
       "2020-09-30           19   5677  1.500148  4356.190  227.149  GalaxyWatchActive\n",
       "2020-10-01           19   9336  1.466699  6712.877  371.359  GalaxyWatchActive\n",
       "2020-10-02           19   3016  1.502393  2358.916  122.347  GalaxyWatchActive\n",
       "2020-10-03           19    458  1.557770   357.213   19.520  GalaxyWatchActive"
      ]
     },
     "execution_count": 370,
     "metadata": {},
     "output_type": "execute_result"
    }
   ],
   "source": [
    "activ_df.tail(5)"
   ]
  },
  {
   "cell_type": "code",
   "execution_count": 371,
   "metadata": {},
   "outputs": [],
   "source": [
    "s2_df  = wearable_steps_df.loc[wearable_steps_df['deviceuuid'] == 'GearS2']              "
   ]
  },
  {
   "cell_type": "code",
   "execution_count": 373,
   "metadata": {},
   "outputs": [
    {
     "data": {
      "text/html": [
       "<div>\n",
       "<style scoped>\n",
       "    .dataframe tbody tr th:only-of-type {\n",
       "        vertical-align: middle;\n",
       "    }\n",
       "\n",
       "    .dataframe tbody tr th {\n",
       "        vertical-align: top;\n",
       "    }\n",
       "\n",
       "    .dataframe thead th {\n",
       "        text-align: right;\n",
       "    }\n",
       "</style>\n",
       "<table border=\"1\" class=\"dataframe\">\n",
       "  <thead>\n",
       "    <tr style=\"text-align: right;\">\n",
       "      <th></th>\n",
       "      <th>source_type</th>\n",
       "      <th>count</th>\n",
       "      <th>speed</th>\n",
       "      <th>distance</th>\n",
       "      <th>calorie</th>\n",
       "      <th>deviceuuid</th>\n",
       "    </tr>\n",
       "    <tr>\n",
       "      <th>day_time</th>\n",
       "      <th></th>\n",
       "      <th></th>\n",
       "      <th></th>\n",
       "      <th></th>\n",
       "      <th></th>\n",
       "      <th></th>\n",
       "    </tr>\n",
       "  </thead>\n",
       "  <tbody>\n",
       "    <tr>\n",
       "      <th>2015-11-23</th>\n",
       "      <td>1</td>\n",
       "      <td>9348</td>\n",
       "      <td>2.722222</td>\n",
       "      <td>7082.45</td>\n",
       "      <td>364.83</td>\n",
       "      <td>GearS2</td>\n",
       "    </tr>\n",
       "    <tr>\n",
       "      <th>2015-11-24</th>\n",
       "      <td>1</td>\n",
       "      <td>9550</td>\n",
       "      <td>3.108889</td>\n",
       "      <td>7531.86</td>\n",
       "      <td>397.25</td>\n",
       "      <td>GearS2</td>\n",
       "    </tr>\n",
       "  </tbody>\n",
       "</table>\n",
       "</div>"
      ],
      "text/plain": [
       "            source_type  count     speed  distance  calorie deviceuuid\n",
       "day_time                                                              \n",
       "2015-11-23            1   9348  2.722222   7082.45   364.83     GearS2\n",
       "2015-11-24            1   9550  3.108889   7531.86   397.25     GearS2"
      ]
     },
     "execution_count": 373,
     "metadata": {},
     "output_type": "execute_result"
    }
   ],
   "source": [
    "s2_df.head(2)"
   ]
  },
  {
   "cell_type": "code",
   "execution_count": 376,
   "metadata": {},
   "outputs": [
    {
     "data": {
      "text/html": [
       "<div>\n",
       "<style scoped>\n",
       "    .dataframe tbody tr th:only-of-type {\n",
       "        vertical-align: middle;\n",
       "    }\n",
       "\n",
       "    .dataframe tbody tr th {\n",
       "        vertical-align: top;\n",
       "    }\n",
       "\n",
       "    .dataframe thead th {\n",
       "        text-align: right;\n",
       "    }\n",
       "</style>\n",
       "<table border=\"1\" class=\"dataframe\">\n",
       "  <thead>\n",
       "    <tr style=\"text-align: right;\">\n",
       "      <th></th>\n",
       "      <th>source_type</th>\n",
       "      <th>count</th>\n",
       "      <th>speed</th>\n",
       "      <th>distance</th>\n",
       "      <th>calorie</th>\n",
       "      <th>deviceuuid</th>\n",
       "    </tr>\n",
       "    <tr>\n",
       "      <th>day_time</th>\n",
       "      <th></th>\n",
       "      <th></th>\n",
       "      <th></th>\n",
       "      <th></th>\n",
       "      <th></th>\n",
       "      <th></th>\n",
       "    </tr>\n",
       "  </thead>\n",
       "  <tbody>\n",
       "    <tr>\n",
       "      <th>2019-03-03</th>\n",
       "      <td>1</td>\n",
       "      <td>1595</td>\n",
       "      <td>1.856266</td>\n",
       "      <td>1129.636</td>\n",
       "      <td>58.130</td>\n",
       "      <td>GearS2</td>\n",
       "    </tr>\n",
       "    <tr>\n",
       "      <th>2019-03-04</th>\n",
       "      <td>1</td>\n",
       "      <td>8116</td>\n",
       "      <td>5.805555</td>\n",
       "      <td>6006.750</td>\n",
       "      <td>314.528</td>\n",
       "      <td>GearS2</td>\n",
       "    </tr>\n",
       "    <tr>\n",
       "      <th>2019-03-06</th>\n",
       "      <td>1</td>\n",
       "      <td>5255</td>\n",
       "      <td>2.638889</td>\n",
       "      <td>3734.640</td>\n",
       "      <td>198.480</td>\n",
       "      <td>GearS2</td>\n",
       "    </tr>\n",
       "    <tr>\n",
       "      <th>2019-03-07</th>\n",
       "      <td>1</td>\n",
       "      <td>6573</td>\n",
       "      <td>6.241113</td>\n",
       "      <td>4918.885</td>\n",
       "      <td>263.720</td>\n",
       "      <td>GearS2</td>\n",
       "    </tr>\n",
       "    <tr>\n",
       "      <th>2019-03-08</th>\n",
       "      <td>1</td>\n",
       "      <td>8167</td>\n",
       "      <td>2.472223</td>\n",
       "      <td>5975.840</td>\n",
       "      <td>313.490</td>\n",
       "      <td>GearS2</td>\n",
       "    </tr>\n",
       "    <tr>\n",
       "      <th>2019-03-09</th>\n",
       "      <td>1</td>\n",
       "      <td>4052</td>\n",
       "      <td>2.720649</td>\n",
       "      <td>3031.590</td>\n",
       "      <td>157.080</td>\n",
       "      <td>GearS2</td>\n",
       "    </tr>\n",
       "    <tr>\n",
       "      <th>2019-03-10</th>\n",
       "      <td>1</td>\n",
       "      <td>2849</td>\n",
       "      <td>2.138889</td>\n",
       "      <td>2173.922</td>\n",
       "      <td>113.160</td>\n",
       "      <td>GearS2</td>\n",
       "    </tr>\n",
       "    <tr>\n",
       "      <th>2019-03-11</th>\n",
       "      <td>1</td>\n",
       "      <td>7869</td>\n",
       "      <td>2.967094</td>\n",
       "      <td>5956.359</td>\n",
       "      <td>305.430</td>\n",
       "      <td>GearS2</td>\n",
       "    </tr>\n",
       "    <tr>\n",
       "      <th>2019-03-12</th>\n",
       "      <td>1</td>\n",
       "      <td>6842</td>\n",
       "      <td>6.055555</td>\n",
       "      <td>5008.704</td>\n",
       "      <td>269.631</td>\n",
       "      <td>GearS2</td>\n",
       "    </tr>\n",
       "    <tr>\n",
       "      <th>2019-03-13</th>\n",
       "      <td>1</td>\n",
       "      <td>7001</td>\n",
       "      <td>3.078125</td>\n",
       "      <td>5201.416</td>\n",
       "      <td>300.940</td>\n",
       "      <td>GearS2</td>\n",
       "    </tr>\n",
       "    <tr>\n",
       "      <th>2019-03-14</th>\n",
       "      <td>1</td>\n",
       "      <td>7529</td>\n",
       "      <td>2.495674</td>\n",
       "      <td>5663.676</td>\n",
       "      <td>303.919</td>\n",
       "      <td>GearS2</td>\n",
       "    </tr>\n",
       "    <tr>\n",
       "      <th>2019-03-15</th>\n",
       "      <td>1</td>\n",
       "      <td>7181</td>\n",
       "      <td>3.250000</td>\n",
       "      <td>5232.059</td>\n",
       "      <td>285.070</td>\n",
       "      <td>GearS2</td>\n",
       "    </tr>\n",
       "    <tr>\n",
       "      <th>2019-03-16</th>\n",
       "      <td>1</td>\n",
       "      <td>3140</td>\n",
       "      <td>2.166667</td>\n",
       "      <td>2354.514</td>\n",
       "      <td>123.970</td>\n",
       "      <td>GearS2</td>\n",
       "    </tr>\n",
       "    <tr>\n",
       "      <th>2019-03-17</th>\n",
       "      <td>1</td>\n",
       "      <td>23</td>\n",
       "      <td>1.722222</td>\n",
       "      <td>16.093</td>\n",
       "      <td>0.800</td>\n",
       "      <td>GearS2</td>\n",
       "    </tr>\n",
       "    <tr>\n",
       "      <th>2019-03-18</th>\n",
       "      <td>1</td>\n",
       "      <td>9009</td>\n",
       "      <td>2.527777</td>\n",
       "      <td>6790.707</td>\n",
       "      <td>353.140</td>\n",
       "      <td>GearS2</td>\n",
       "    </tr>\n",
       "    <tr>\n",
       "      <th>2019-03-19</th>\n",
       "      <td>1</td>\n",
       "      <td>6707</td>\n",
       "      <td>6.387192</td>\n",
       "      <td>5004.045</td>\n",
       "      <td>260.969</td>\n",
       "      <td>GearS2</td>\n",
       "    </tr>\n",
       "    <tr>\n",
       "      <th>2019-03-20</th>\n",
       "      <td>1</td>\n",
       "      <td>5338</td>\n",
       "      <td>2.420772</td>\n",
       "      <td>3999.793</td>\n",
       "      <td>199.371</td>\n",
       "      <td>GearS2</td>\n",
       "    </tr>\n",
       "    <tr>\n",
       "      <th>2019-12-05</th>\n",
       "      <td>1</td>\n",
       "      <td>4</td>\n",
       "      <td>0.000000</td>\n",
       "      <td>3.170</td>\n",
       "      <td>0.120</td>\n",
       "      <td>GearS2</td>\n",
       "    </tr>\n",
       "    <tr>\n",
       "      <th>2020-12-20</th>\n",
       "      <td>1</td>\n",
       "      <td>30</td>\n",
       "      <td>1.363470</td>\n",
       "      <td>20.450</td>\n",
       "      <td>0.990</td>\n",
       "      <td>GearS2</td>\n",
       "    </tr>\n",
       "    <tr>\n",
       "      <th>2021-01-02</th>\n",
       "      <td>1</td>\n",
       "      <td>22</td>\n",
       "      <td>1.699355</td>\n",
       "      <td>17.250</td>\n",
       "      <td>0.820</td>\n",
       "      <td>GearS2</td>\n",
       "    </tr>\n",
       "  </tbody>\n",
       "</table>\n",
       "</div>"
      ],
      "text/plain": [
       "            source_type  count     speed  distance  calorie deviceuuid\n",
       "day_time                                                              \n",
       "2019-03-03            1   1595  1.856266  1129.636   58.130     GearS2\n",
       "2019-03-04            1   8116  5.805555  6006.750  314.528     GearS2\n",
       "2019-03-06            1   5255  2.638889  3734.640  198.480     GearS2\n",
       "2019-03-07            1   6573  6.241113  4918.885  263.720     GearS2\n",
       "2019-03-08            1   8167  2.472223  5975.840  313.490     GearS2\n",
       "2019-03-09            1   4052  2.720649  3031.590  157.080     GearS2\n",
       "2019-03-10            1   2849  2.138889  2173.922  113.160     GearS2\n",
       "2019-03-11            1   7869  2.967094  5956.359  305.430     GearS2\n",
       "2019-03-12            1   6842  6.055555  5008.704  269.631     GearS2\n",
       "2019-03-13            1   7001  3.078125  5201.416  300.940     GearS2\n",
       "2019-03-14            1   7529  2.495674  5663.676  303.919     GearS2\n",
       "2019-03-15            1   7181  3.250000  5232.059  285.070     GearS2\n",
       "2019-03-16            1   3140  2.166667  2354.514  123.970     GearS2\n",
       "2019-03-17            1     23  1.722222    16.093    0.800     GearS2\n",
       "2019-03-18            1   9009  2.527777  6790.707  353.140     GearS2\n",
       "2019-03-19            1   6707  6.387192  5004.045  260.969     GearS2\n",
       "2019-03-20            1   5338  2.420772  3999.793  199.371     GearS2\n",
       "2019-12-05            1      4  0.000000     3.170    0.120     GearS2\n",
       "2020-12-20            1     30  1.363470    20.450    0.990     GearS2\n",
       "2021-01-02            1     22  1.699355    17.250    0.820     GearS2"
      ]
     },
     "execution_count": 376,
     "metadata": {},
     "output_type": "execute_result"
    }
   ],
   "source": [
    "s2_df.tail(20)"
   ]
  },
  {
   "cell_type": "code",
   "execution_count": 377,
   "metadata": {},
   "outputs": [],
   "source": [
    "y2017_df = wearable_steps_df.loc[ (wearable_steps_df.index > '2017-04-01' ) & \n",
    "                                   (wearable_steps_df.index < '2018-05-01' )]"
   ]
  },
  {
   "cell_type": "code",
   "execution_count": 378,
   "metadata": {},
   "outputs": [
    {
     "data": {
      "text/html": [
       "<div>\n",
       "<style scoped>\n",
       "    .dataframe tbody tr th:only-of-type {\n",
       "        vertical-align: middle;\n",
       "    }\n",
       "\n",
       "    .dataframe tbody tr th {\n",
       "        vertical-align: top;\n",
       "    }\n",
       "\n",
       "    .dataframe thead th {\n",
       "        text-align: right;\n",
       "    }\n",
       "</style>\n",
       "<table border=\"1\" class=\"dataframe\">\n",
       "  <thead>\n",
       "    <tr style=\"text-align: right;\">\n",
       "      <th></th>\n",
       "      <th>source_type</th>\n",
       "      <th>count</th>\n",
       "      <th>speed</th>\n",
       "      <th>distance</th>\n",
       "      <th>calorie</th>\n",
       "      <th>deviceuuid</th>\n",
       "    </tr>\n",
       "    <tr>\n",
       "      <th>day_time</th>\n",
       "      <th></th>\n",
       "      <th></th>\n",
       "      <th></th>\n",
       "      <th></th>\n",
       "      <th></th>\n",
       "      <th></th>\n",
       "    </tr>\n",
       "  </thead>\n",
       "  <tbody>\n",
       "    <tr>\n",
       "      <th>2017-04-02</th>\n",
       "      <td>1</td>\n",
       "      <td>10405</td>\n",
       "      <td>2.299809</td>\n",
       "      <td>7642.353</td>\n",
       "      <td>384.511</td>\n",
       "      <td>GearS2</td>\n",
       "    </tr>\n",
       "    <tr>\n",
       "      <th>2017-04-03</th>\n",
       "      <td>1</td>\n",
       "      <td>12282</td>\n",
       "      <td>6.856078</td>\n",
       "      <td>9168.247</td>\n",
       "      <td>472.379</td>\n",
       "      <td>GearS2</td>\n",
       "    </tr>\n",
       "    <tr>\n",
       "      <th>2017-04-04</th>\n",
       "      <td>1</td>\n",
       "      <td>10323</td>\n",
       "      <td>2.462229</td>\n",
       "      <td>7570.787</td>\n",
       "      <td>397.639</td>\n",
       "      <td>GearS2</td>\n",
       "    </tr>\n",
       "    <tr>\n",
       "      <th>2017-04-05</th>\n",
       "      <td>1</td>\n",
       "      <td>10014</td>\n",
       "      <td>6.818411</td>\n",
       "      <td>7857.429</td>\n",
       "      <td>410.809</td>\n",
       "      <td>GearS2</td>\n",
       "    </tr>\n",
       "    <tr>\n",
       "      <th>2017-04-06</th>\n",
       "      <td>1</td>\n",
       "      <td>9968</td>\n",
       "      <td>5.561114</td>\n",
       "      <td>7337.451</td>\n",
       "      <td>387.388</td>\n",
       "      <td>GearS2</td>\n",
       "    </tr>\n",
       "    <tr>\n",
       "      <th>2017-04-07</th>\n",
       "      <td>1</td>\n",
       "      <td>9630</td>\n",
       "      <td>6.433814</td>\n",
       "      <td>7055.896</td>\n",
       "      <td>354.791</td>\n",
       "      <td>GearS2</td>\n",
       "    </tr>\n",
       "    <tr>\n",
       "      <th>2017-04-08</th>\n",
       "      <td>1</td>\n",
       "      <td>6268</td>\n",
       "      <td>2.500000</td>\n",
       "      <td>4713.363</td>\n",
       "      <td>242.599</td>\n",
       "      <td>GearS2</td>\n",
       "    </tr>\n",
       "    <tr>\n",
       "      <th>2017-04-09</th>\n",
       "      <td>1</td>\n",
       "      <td>2873</td>\n",
       "      <td>2.373298</td>\n",
       "      <td>2132.610</td>\n",
       "      <td>109.080</td>\n",
       "      <td>GearS2</td>\n",
       "    </tr>\n",
       "    <tr>\n",
       "      <th>2017-04-10</th>\n",
       "      <td>1</td>\n",
       "      <td>12167</td>\n",
       "      <td>3.194444</td>\n",
       "      <td>8897.899</td>\n",
       "      <td>449.640</td>\n",
       "      <td>GearS2</td>\n",
       "    </tr>\n",
       "    <tr>\n",
       "      <th>2017-04-11</th>\n",
       "      <td>1</td>\n",
       "      <td>10566</td>\n",
       "      <td>2.500000</td>\n",
       "      <td>7575.478</td>\n",
       "      <td>391.820</td>\n",
       "      <td>GearS2</td>\n",
       "    </tr>\n",
       "    <tr>\n",
       "      <th>2017-04-12</th>\n",
       "      <td>1</td>\n",
       "      <td>7244</td>\n",
       "      <td>3.048984</td>\n",
       "      <td>5316.668</td>\n",
       "      <td>271.900</td>\n",
       "      <td>GearS2</td>\n",
       "    </tr>\n",
       "    <tr>\n",
       "      <th>2017-04-13</th>\n",
       "      <td>1</td>\n",
       "      <td>8428</td>\n",
       "      <td>2.361111</td>\n",
       "      <td>6257.187</td>\n",
       "      <td>314.720</td>\n",
       "      <td>GearS2</td>\n",
       "    </tr>\n",
       "    <tr>\n",
       "      <th>2017-04-14</th>\n",
       "      <td>1</td>\n",
       "      <td>7085</td>\n",
       "      <td>2.861111</td>\n",
       "      <td>5317.875</td>\n",
       "      <td>271.390</td>\n",
       "      <td>GearS2</td>\n",
       "    </tr>\n",
       "    <tr>\n",
       "      <th>2017-04-15</th>\n",
       "      <td>1</td>\n",
       "      <td>7894</td>\n",
       "      <td>2.691639</td>\n",
       "      <td>5879.853</td>\n",
       "      <td>295.070</td>\n",
       "      <td>GearS2</td>\n",
       "    </tr>\n",
       "    <tr>\n",
       "      <th>2017-04-16</th>\n",
       "      <td>1</td>\n",
       "      <td>5849</td>\n",
       "      <td>3.170934</td>\n",
       "      <td>4297.424</td>\n",
       "      <td>217.600</td>\n",
       "      <td>GearS2</td>\n",
       "    </tr>\n",
       "    <tr>\n",
       "      <th>2017-04-17</th>\n",
       "      <td>1</td>\n",
       "      <td>4226</td>\n",
       "      <td>1.972222</td>\n",
       "      <td>3198.022</td>\n",
       "      <td>156.969</td>\n",
       "      <td>GearS2</td>\n",
       "    </tr>\n",
       "    <tr>\n",
       "      <th>2018-03-31</th>\n",
       "      <td>1</td>\n",
       "      <td>57</td>\n",
       "      <td>1.853562</td>\n",
       "      <td>41.120</td>\n",
       "      <td>1.830</td>\n",
       "      <td>GearS2</td>\n",
       "    </tr>\n",
       "    <tr>\n",
       "      <th>2018-04-01</th>\n",
       "      <td>1</td>\n",
       "      <td>3612</td>\n",
       "      <td>2.000001</td>\n",
       "      <td>2635.560</td>\n",
       "      <td>118.170</td>\n",
       "      <td>GearS2</td>\n",
       "    </tr>\n",
       "    <tr>\n",
       "      <th>2018-04-02</th>\n",
       "      <td>1</td>\n",
       "      <td>7863</td>\n",
       "      <td>2.704749</td>\n",
       "      <td>5947.540</td>\n",
       "      <td>281.780</td>\n",
       "      <td>GearS2</td>\n",
       "    </tr>\n",
       "    <tr>\n",
       "      <th>2018-04-03</th>\n",
       "      <td>1</td>\n",
       "      <td>10736</td>\n",
       "      <td>2.237802</td>\n",
       "      <td>7870.706</td>\n",
       "      <td>361.790</td>\n",
       "      <td>GearS2</td>\n",
       "    </tr>\n",
       "    <tr>\n",
       "      <th>2018-04-04</th>\n",
       "      <td>1</td>\n",
       "      <td>11958</td>\n",
       "      <td>2.053672</td>\n",
       "      <td>9012.847</td>\n",
       "      <td>398.731</td>\n",
       "      <td>GearS2</td>\n",
       "    </tr>\n",
       "    <tr>\n",
       "      <th>2018-04-07</th>\n",
       "      <td>1</td>\n",
       "      <td>50</td>\n",
       "      <td>1.583333</td>\n",
       "      <td>36.320</td>\n",
       "      <td>1.690</td>\n",
       "      <td>GearS2</td>\n",
       "    </tr>\n",
       "    <tr>\n",
       "      <th>2018-04-08</th>\n",
       "      <td>1</td>\n",
       "      <td>157</td>\n",
       "      <td>1.803422</td>\n",
       "      <td>110.577</td>\n",
       "      <td>5.000</td>\n",
       "      <td>GearS2</td>\n",
       "    </tr>\n",
       "    <tr>\n",
       "      <th>2018-04-14</th>\n",
       "      <td>1</td>\n",
       "      <td>13</td>\n",
       "      <td>1.027778</td>\n",
       "      <td>7.280</td>\n",
       "      <td>0.300</td>\n",
       "      <td>GearS2</td>\n",
       "    </tr>\n",
       "  </tbody>\n",
       "</table>\n",
       "</div>"
      ],
      "text/plain": [
       "            source_type  count     speed  distance  calorie deviceuuid\n",
       "day_time                                                              \n",
       "2017-04-02            1  10405  2.299809  7642.353  384.511     GearS2\n",
       "2017-04-03            1  12282  6.856078  9168.247  472.379     GearS2\n",
       "2017-04-04            1  10323  2.462229  7570.787  397.639     GearS2\n",
       "2017-04-05            1  10014  6.818411  7857.429  410.809     GearS2\n",
       "2017-04-06            1   9968  5.561114  7337.451  387.388     GearS2\n",
       "2017-04-07            1   9630  6.433814  7055.896  354.791     GearS2\n",
       "2017-04-08            1   6268  2.500000  4713.363  242.599     GearS2\n",
       "2017-04-09            1   2873  2.373298  2132.610  109.080     GearS2\n",
       "2017-04-10            1  12167  3.194444  8897.899  449.640     GearS2\n",
       "2017-04-11            1  10566  2.500000  7575.478  391.820     GearS2\n",
       "2017-04-12            1   7244  3.048984  5316.668  271.900     GearS2\n",
       "2017-04-13            1   8428  2.361111  6257.187  314.720     GearS2\n",
       "2017-04-14            1   7085  2.861111  5317.875  271.390     GearS2\n",
       "2017-04-15            1   7894  2.691639  5879.853  295.070     GearS2\n",
       "2017-04-16            1   5849  3.170934  4297.424  217.600     GearS2\n",
       "2017-04-17            1   4226  1.972222  3198.022  156.969     GearS2\n",
       "2018-03-31            1     57  1.853562    41.120    1.830     GearS2\n",
       "2018-04-01            1   3612  2.000001  2635.560  118.170     GearS2\n",
       "2018-04-02            1   7863  2.704749  5947.540  281.780     GearS2\n",
       "2018-04-03            1  10736  2.237802  7870.706  361.790     GearS2\n",
       "2018-04-04            1  11958  2.053672  9012.847  398.731     GearS2\n",
       "2018-04-07            1     50  1.583333    36.320    1.690     GearS2\n",
       "2018-04-08            1    157  1.803422   110.577    5.000     GearS2\n",
       "2018-04-14            1     13  1.027778     7.280    0.300     GearS2"
      ]
     },
     "execution_count": 378,
     "metadata": {},
     "output_type": "execute_result"
    }
   ],
   "source": [
    "y2017_df"
   ]
  },
  {
   "cell_type": "code",
   "execution_count": 364,
   "metadata": {},
   "outputs": [
    {
     "data": {
      "text/plain": [
       "<AxesSubplot:xlabel='day_time'>"
      ]
     },
     "execution_count": 364,
     "metadata": {},
     "output_type": "execute_result"
    },
    {
     "data": {
      "image/png": "[encoded data removed]",
      "text/plain": [
       "<Figure size 1440x360 with 1 Axes>"
      ]
     },
     "metadata": {
      "needs_background": "light"
     },
     "output_type": "display_data"
    }
   ],
   "source": [
    "wearable_steps_df['count'].plot(figsize=(20,5))"
   ]
  },
  {
   "cell_type": "markdown",
   "metadata": {},
   "source": [
    "1. Question . 2017년 ~2018년 왜 데이터가 없지??? 언제인가\n",
    "2. 평균 걸음수는 ?\n",
    " * 년간, 월간, 주간, 요일별"
   ]
  },
  {
   "cell_type": "markdown",
   "metadata": {},
   "source": [
    "wearable_steps_df.loc[wearable_steps_df['count'] > 20000]"
   ]
  },
  {
   "cell_type": "code",
   "execution_count": null,
   "metadata": {},
   "outputs": [],
   "source": [
    "wearable_steps_df"
   ]
  },
  {
   "cell_type": "markdown",
   "metadata": {},
   "source": [
    "요일 별 평균 구해보기\n"
   ]
  },
  {
   "cell_type": "code",
   "execution_count": 340,
   "metadata": {},
   "outputs": [
    {
     "data": {
      "text/plain": [
       "day_time\n",
       "0    8186.186603\n",
       "1    7539.911765\n",
       "2    7488.052885\n",
       "3    7429.572115\n",
       "4    7031.495238\n",
       "5    4877.092683\n",
       "6    4300.862069\n",
       "Name: count, dtype: float64"
      ]
     },
     "execution_count": 340,
     "metadata": {},
     "output_type": "execute_result"
    }
   ],
   "source": [
    "wearable_steps_df.groupby(wearable_steps_df.index.dayofweek)['count'].mean()"
   ]
  },
  {
   "cell_type": "code",
   "execution_count": 346,
   "metadata": {},
   "outputs": [
    {
     "data": {
      "text/plain": [
       "<AxesSubplot:xlabel='day_time'>"
      ]
     },
     "execution_count": 346,
     "metadata": {},
     "output_type": "execute_result"
    },
    {
     "data": {
      "image/png": "[encoded data removed]",
      "text/plain": [
       "<Figure size 432x288 with 1 Axes>"
      ]
     },
     "metadata": {
      "needs_background": "light"
     },
     "output_type": "display_data"
    }
   ],
   "source": [
    "wearable_steps_df.groupby(wearable_steps_df.index.year)['count'].mean().plot(kind='bar')"
   ]
  },
  {
   "cell_type": "code",
   "execution_count": 347,
   "metadata": {},
   "outputs": [
    {
     "data": {
      "text/plain": [
       "<AxesSubplot:xlabel='day_time'>"
      ]
     },
     "execution_count": 347,
     "metadata": {},
     "output_type": "execute_result"
    },
    {
     "data": {
      "image/png": "[encoded data removed]",
      "text/plain": [
       "<Figure size 432x288 with 1 Axes>"
      ]
     },
     "metadata": {
      "needs_background": "light"
     },
     "output_type": "display_data"
    }
   ],
   "source": [
    "wearable_steps_df.groupby(wearable_steps_df.index.month)['count'].mean().plot(kind='bar')"
   ]
  },
  {
   "cell_type": "code",
   "execution_count": 348,
   "metadata": {},
   "outputs": [
    {
     "data": {
      "text/plain": [
       "<AxesSubplot:xlabel='day_time'>"
      ]
     },
     "execution_count": 348,
     "metadata": {},
     "output_type": "execute_result"
    },
    {
     "data": {
      "image/png": "[encoded data removed]",
      "text/plain": [
       "<Figure size 432x288 with 1 Axes>"
      ]
     },
     "metadata": {
      "needs_background": "light"
     },
     "output_type": "display_data"
    }
   ],
   "source": [
    "wearable_steps_df.groupby(wearable_steps_df.index.weekday)['count'].mean().plot(kind='bar')"
   ]
  },
  {
   "cell_type": "code",
   "execution_count": null,
   "metadata": {},
   "outputs": [],
   "source": []
  }
 ],
 "metadata": {
  "kernelspec": {
   "display_name": "Python 3",
   "language": "python",
   "name": "python3"
  },
  "language_info": {
   "codemirror_mode": {
    "name": "ipython",
    "version": 3
   },
   "file_extension": ".py",
   "mimetype": "text/x-python",
   "name": "python",
   "nbconvert_exporter": "python",
   "pygments_lexer": "ipython3",
   "version": "3.8.5"
  }
 },
 "nbformat": 4,
 "nbformat_minor": 4
}
