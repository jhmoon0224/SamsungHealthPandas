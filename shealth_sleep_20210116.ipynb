{
 "cells": [
  {
   "cell_type": "code",
   "execution_count": 104,
   "metadata": {},
   "outputs": [
    {
     "ename": "NameError",
     "evalue": "name 'm' is not defined",
     "output_type": "error",
     "traceback": [
      "\u001b[1;31m---------------------------------------------------------------------------\u001b[0m",
      "\u001b[1;31mNameError\u001b[0m                                 Traceback (most recent call last)",
      "\u001b[1;32m<ipython-input-104-aee15c16339d>\u001b[0m in \u001b[0;36m<module>\u001b[1;34m\u001b[0m\n\u001b[0;32m      5\u001b[0m \u001b[1;32mimport\u001b[0m \u001b[0mmatplotlib\u001b[0m\u001b[1;33m.\u001b[0m\u001b[0mpyplot\u001b[0m \u001b[1;32mas\u001b[0m \u001b[0mplt\u001b[0m\u001b[1;33m\u001b[0m\u001b[1;33m\u001b[0m\u001b[0m\n\u001b[0;32m      6\u001b[0m \u001b[1;32mimport\u001b[0m \u001b[0mseaborn\u001b[0m \u001b[1;32mas\u001b[0m \u001b[0msns\u001b[0m\u001b[1;33m\u001b[0m\u001b[1;33m\u001b[0m\u001b[0m\n\u001b[1;32m----> 7\u001b[1;33m \u001b[0mm\u001b[0m\u001b[1;33m\u001b[0m\u001b[1;33m\u001b[0m\u001b[0m\n\u001b[0m",
      "\u001b[1;31mNameError\u001b[0m: name 'm' is not defined"
     ]
    }
   ],
   "source": [
    "import numpy as np\n",
    "import pandas as pd\n",
    "import os\n",
    "from glob import glob\n",
    "import matplotlib.pyplot as plt\n",
    "import seaborn as sns\n",
    "m"
   ]
  },
  {
   "cell_type": "code",
   "execution_count": 105,
   "metadata": {},
   "outputs": [],
   "source": [
    "samsung_base_dir = r'D:\\MyDocuments\\Downloads\\samsunghealth_toanyone_202101111626\\samsunghealth_toanyone_202101111626'"
   ]
  },
  {
   "cell_type": "code",
   "execution_count": 106,
   "metadata": {},
   "outputs": [],
   "source": [
    "files_dir = os.listdir(samsung_base_dir)"
   ]
  },
  {
   "cell_type": "code",
   "execution_count": 107,
   "metadata": {},
   "outputs": [
    {
     "data": {
      "text/plain": [
       "['com.samsung.health.caffeine_intake.202101111626.csv',\n",
       " 'com.samsung.health.device_profile.202101111626.csv',\n",
       " 'com.samsung.health.floors_climbed.202101111626.csv',\n",
       " 'com.samsung.health.food_info.202101111626.csv',\n",
       " 'com.samsung.health.food_intake.202101111626.csv',\n",
       " 'com.samsung.health.height.202101111626.csv',\n",
       " 'com.samsung.health.nutrition.202101111626.csv',\n",
       " 'com.samsung.health.sleep_stage.202101111626.csv',\n",
       " 'com.samsung.health.user_profile.202101111626.csv',\n",
       " 'com.samsung.health.water_intake.202101111626.csv',\n",
       " 'com.samsung.health.weight.202101111626.csv',\n",
       " 'com.samsung.shealth.activity.day_summary.202101111626.csv',\n",
       " 'com.samsung.shealth.activity.goal.202101111626.csv',\n",
       " 'com.samsung.shealth.activity_level.202101111626.csv',\n",
       " 'com.samsung.shealth.best_records.202101111626.csv',\n",
       " 'com.samsung.shealth.breathing.202101111626.csv',\n",
       " 'com.samsung.shealth.caloric_balance_goal.202101111626.csv',\n",
       " 'com.samsung.shealth.calories_burned.details.202101111626.csv',\n",
       " 'com.samsung.shealth.exercise.202101111626.csv',\n",
       " 'com.samsung.shealth.exercise.program.202101111626.csv',\n",
       " 'com.samsung.shealth.exercise.program_schedule.202101111626.csv',\n",
       " 'com.samsung.shealth.exercise.program_summary.202101111626.csv',\n",
       " 'com.samsung.shealth.exercise.weather.202101111626.csv',\n",
       " 'com.samsung.shealth.food_favorite.202101111626.csv',\n",
       " 'com.samsung.shealth.food_frequent.202101111626.csv',\n",
       " 'com.samsung.shealth.food_goal.202101111626.csv',\n",
       " 'com.samsung.shealth.goal.202101111626.csv',\n",
       " 'com.samsung.shealth.goal_history.202101111626.csv',\n",
       " 'com.samsung.shealth.insight.activity_guide_point.202101111626.csv',\n",
       " 'com.samsung.shealth.insight.milestones.202101111626.csv',\n",
       " 'com.samsung.shealth.library_subscription.202101111626.csv',\n",
       " 'com.samsung.shealth.mindfulness.history.202101111626.csv',\n",
       " 'com.samsung.shealth.preferences.202101111626.csv',\n",
       " 'com.samsung.shealth.report.202101111626.csv',\n",
       " 'com.samsung.shealth.rewards.202101111626.csv',\n",
       " 'com.samsung.shealth.sleep.202101111626.csv',\n",
       " 'com.samsung.shealth.sleep_data.202101111626.csv',\n",
       " 'com.samsung.shealth.sleep_goal.202101111626.csv',\n",
       " 'com.samsung.shealth.social.leaderboard.202101111626.csv',\n",
       " 'com.samsung.shealth.social.public_challenge.202101111626.csv',\n",
       " 'com.samsung.shealth.social.public_challenge.detail.202101111626.csv',\n",
       " 'com.samsung.shealth.social.public_challenge.extra.202101111626.csv',\n",
       " 'com.samsung.shealth.social.public_challenge.history.202101111626.csv',\n",
       " 'com.samsung.shealth.social.public_challenge.leaderboard.202101111626.csv',\n",
       " 'com.samsung.shealth.social.service_status.202101111626.csv',\n",
       " 'com.samsung.shealth.stand_day_summary.202101111626.csv',\n",
       " 'com.samsung.shealth.step_daily_trend.202101111626.csv',\n",
       " 'com.samsung.shealth.stress.202101111626.csv',\n",
       " 'com.samsung.shealth.stress.histogram.202101111626.csv',\n",
       " 'com.samsung.shealth.tracker.heart_rate.202101111626.csv',\n",
       " 'com.samsung.shealth.tracker.oxygen_saturation.202101111626.csv',\n",
       " 'com.samsung.shealth.tracker.pedometer_day_summary.202101111626.csv',\n",
       " 'com.samsung.shealth.tracker.pedometer_event.202101111626.csv',\n",
       " 'com.samsung.shealth.tracker.pedometer_recommendation.202101111626.csv',\n",
       " 'com.samsung.shealth.tracker.pedometer_step_count.202101111626.csv',\n",
       " 'com.samsung.shealth.wearable_settings.202101111626.csv',\n",
       " 'files',\n",
       " 'jsons',\n",
       " '새 폴더']"
      ]
     },
     "execution_count": 107,
     "metadata": {},
     "output_type": "execute_result"
    }
   ],
   "source": [
    "files_dir"
   ]
  },
  {
   "cell_type": "code",
   "execution_count": 108,
   "metadata": {},
   "outputs": [
    {
     "name": "stdout",
     "output_type": "stream",
     "text": [
      "D:\\MyDocuments\\Downloads\\samsunghealth_toanyone_202101111626\\samsunghealth_toanyone_202101111626\n"
     ]
    }
   ],
   "source": [
    "print(shealth_dir)"
   ]
  },
  {
   "cell_type": "code",
   "execution_count": 109,
   "metadata": {},
   "outputs": [
    {
     "name": "stdout",
     "output_type": "stream",
     "text": [
      "59 dumps found, taking first: com.samsung.health.caffeine_intake.202101111626.csv\n",
      "0 csvs found\n",
      "0 jsons found\n"
     ]
    }
   ],
   "source": [
    "samsung_dump_dirs = glob(os.path.join(samsung_base_dir, '*'))\n",
    "samsung_dump_dir = os.path.basename(samsung_dump_dirs[0])\n",
    "print(len(samsung_dump_dirs), 'dumps found, taking first:', samsung_dump_dir)\n",
    "\n",
    "samsung_csv_paths = glob(os.path.join(samsung_base_dir, samsung_dump_dir, '*.csv'))\n",
    "print(len(samsung_csv_paths), 'csvs found')\n",
    "samsung_json_paths = glob(os.path.join(samsung_base_dir, samsung_dump_dir, 'jsons', '*',  '*.json'))\n",
    "print(len(samsung_json_paths), 'jsons found')"
   ]
  },
  {
   "cell_type": "code",
   "execution_count": 110,
   "metadata": {},
   "outputs": [
    {
     "data": {
      "text/plain": [
       "'D:\\\\MyDocuments\\\\Downloads\\\\samsunghealth_toanyone_202101111626\\\\samsunghealth_toanyone_202101111626\\\\com.samsung.health.caffeine_intake.202101111626.csv'"
      ]
     },
     "execution_count": 110,
     "metadata": {},
     "output_type": "execute_result"
    }
   ],
   "source": [
    "samsung_dump_dirs[0]"
   ]
  },
  {
   "cell_type": "code",
   "execution_count": 111,
   "metadata": {},
   "outputs": [
    {
     "data": {
      "text/plain": [
       "'com.samsung.health.caffeine_intake.202101111626.csv'"
      ]
     },
     "execution_count": 111,
     "metadata": {},
     "output_type": "execute_result"
    }
   ],
   "source": [
    "os.path.basename(samsung_dump_dirs[0])"
   ]
  },
  {
   "cell_type": "code",
   "execution_count": 112,
   "metadata": {},
   "outputs": [],
   "source": [
    "sleep_df = pd.read_csv(samsung_base_dir + '\\com.samsung.shealth.sleep.202101111626.csv', index_col=False)"
   ]
  },
  {
   "cell_type": "markdown",
   "metadata": {},
   "source": [
    "우선 Dataframe 구조를 한번 확인해 보자"
   ]
  },
  {
   "cell_type": "code",
   "execution_count": 113,
   "metadata": {},
   "outputs": [
    {
     "data": {
      "text/html": [
       "<div>\n",
       "<style scoped>\n",
       "    .dataframe tbody tr th:only-of-type {\n",
       "        vertical-align: middle;\n",
       "    }\n",
       "\n",
       "    .dataframe tbody tr th {\n",
       "        vertical-align: top;\n",
       "    }\n",
       "\n",
       "    .dataframe thead th {\n",
       "        text-align: right;\n",
       "    }\n",
       "</style>\n",
       "<table border=\"1\" class=\"dataframe\">\n",
       "  <thead>\n",
       "    <tr style=\"text-align: right;\">\n",
       "      <th></th>\n",
       "      <th>original_efficiency</th>\n",
       "      <th>mental_recovery</th>\n",
       "      <th>factor_01</th>\n",
       "      <th>factor_02</th>\n",
       "      <th>factor_03</th>\n",
       "      <th>factor_04</th>\n",
       "      <th>factor_05</th>\n",
       "      <th>factor_06</th>\n",
       "      <th>factor_07</th>\n",
       "      <th>factor_08</th>\n",
       "      <th>...</th>\n",
       "      <th>com.samsung.health.sleep.start_time</th>\n",
       "      <th>com.samsung.health.sleep.custom</th>\n",
       "      <th>com.samsung.health.sleep.update_time</th>\n",
       "      <th>com.samsung.health.sleep.create_time</th>\n",
       "      <th>com.samsung.health.sleep.time_offset</th>\n",
       "      <th>com.samsung.health.sleep.deviceuuid</th>\n",
       "      <th>com.samsung.health.sleep.comment</th>\n",
       "      <th>com.samsung.health.sleep.pkg_name</th>\n",
       "      <th>com.samsung.health.sleep.end_time</th>\n",
       "      <th>com.samsung.health.sleep.datauuid</th>\n",
       "    </tr>\n",
       "  </thead>\n",
       "  <tbody>\n",
       "    <tr>\n",
       "      <th>0</th>\n",
       "      <td>NaN</td>\n",
       "      <td>NaN</td>\n",
       "      <td>NaN</td>\n",
       "      <td>NaN</td>\n",
       "      <td>NaN</td>\n",
       "      <td>NaN</td>\n",
       "      <td>NaN</td>\n",
       "      <td>NaN</td>\n",
       "      <td>NaN</td>\n",
       "      <td>NaN</td>\n",
       "      <td>...</td>\n",
       "      <td>2015-11-27 14:00:00.000</td>\n",
       "      <td>NaN</td>\n",
       "      <td>2015-11-28 05:15:48.725</td>\n",
       "      <td>2015-11-28 05:15:48.725</td>\n",
       "      <td>UTC+0900</td>\n",
       "      <td>uDv1iH1IMs</td>\n",
       "      <td>NaN</td>\n",
       "      <td>com.sec.android.app.shealth</td>\n",
       "      <td>2015-11-27 22:00:00.000</td>\n",
       "      <td>8a100cbc-135d-4b19-a51f-928fc248bfa0</td>\n",
       "    </tr>\n",
       "    <tr>\n",
       "      <th>1</th>\n",
       "      <td>NaN</td>\n",
       "      <td>NaN</td>\n",
       "      <td>NaN</td>\n",
       "      <td>NaN</td>\n",
       "      <td>NaN</td>\n",
       "      <td>NaN</td>\n",
       "      <td>NaN</td>\n",
       "      <td>NaN</td>\n",
       "      <td>NaN</td>\n",
       "      <td>NaN</td>\n",
       "      <td>...</td>\n",
       "      <td>2019-04-14 14:59:00.000</td>\n",
       "      <td>NaN</td>\n",
       "      <td>2019-04-14 23:11:08.179</td>\n",
       "      <td>2019-04-14 23:11:08.179</td>\n",
       "      <td>UTC+0900</td>\n",
       "      <td>NZJQ7Yrbs4</td>\n",
       "      <td>NaN</td>\n",
       "      <td>com.sec.android.app.shealth</td>\n",
       "      <td>2019-04-14 23:10:00.000</td>\n",
       "      <td>af53d2f3-b420-fc9f-eb16-40fdec013337</td>\n",
       "    </tr>\n",
       "    <tr>\n",
       "      <th>2</th>\n",
       "      <td>NaN</td>\n",
       "      <td>NaN</td>\n",
       "      <td>NaN</td>\n",
       "      <td>NaN</td>\n",
       "      <td>NaN</td>\n",
       "      <td>NaN</td>\n",
       "      <td>NaN</td>\n",
       "      <td>NaN</td>\n",
       "      <td>NaN</td>\n",
       "      <td>NaN</td>\n",
       "      <td>...</td>\n",
       "      <td>2019-04-01 16:19:00.000</td>\n",
       "      <td>NaN</td>\n",
       "      <td>2019-04-01 23:03:48.567</td>\n",
       "      <td>2019-04-01 23:03:48.567</td>\n",
       "      <td>UTC+0900</td>\n",
       "      <td>NZJQ7Yrbs4</td>\n",
       "      <td>NaN</td>\n",
       "      <td>com.sec.android.app.shealth</td>\n",
       "      <td>2019-04-01 22:55:00.000</td>\n",
       "      <td>dcdbaeb8-075e-5040-eec4-16860ef1ab5a</td>\n",
       "    </tr>\n",
       "    <tr>\n",
       "      <th>3</th>\n",
       "      <td>NaN</td>\n",
       "      <td>NaN</td>\n",
       "      <td>NaN</td>\n",
       "      <td>NaN</td>\n",
       "      <td>NaN</td>\n",
       "      <td>NaN</td>\n",
       "      <td>NaN</td>\n",
       "      <td>NaN</td>\n",
       "      <td>NaN</td>\n",
       "      <td>NaN</td>\n",
       "      <td>...</td>\n",
       "      <td>2019-03-26 16:16:00.000</td>\n",
       "      <td>NaN</td>\n",
       "      <td>2019-03-26 23:20:13.761</td>\n",
       "      <td>2019-03-26 23:20:13.761</td>\n",
       "      <td>UTC+0900</td>\n",
       "      <td>NZJQ7Yrbs4</td>\n",
       "      <td>NaN</td>\n",
       "      <td>com.sec.android.app.shealth</td>\n",
       "      <td>2019-03-26 23:16:00.000</td>\n",
       "      <td>f8425fff-e84e-cd7c-faf4-18040176918c</td>\n",
       "    </tr>\n",
       "    <tr>\n",
       "      <th>4</th>\n",
       "      <td>NaN</td>\n",
       "      <td>NaN</td>\n",
       "      <td>NaN</td>\n",
       "      <td>NaN</td>\n",
       "      <td>NaN</td>\n",
       "      <td>NaN</td>\n",
       "      <td>NaN</td>\n",
       "      <td>NaN</td>\n",
       "      <td>NaN</td>\n",
       "      <td>NaN</td>\n",
       "      <td>...</td>\n",
       "      <td>2019-05-06 15:35:00.000</td>\n",
       "      <td>NaN</td>\n",
       "      <td>2019-05-06 22:46:32.612</td>\n",
       "      <td>2019-05-06 22:46:32.612</td>\n",
       "      <td>UTC+0900</td>\n",
       "      <td>NZJQ7Yrbs4</td>\n",
       "      <td>NaN</td>\n",
       "      <td>com.sec.android.app.shealth</td>\n",
       "      <td>2019-05-06 22:36:00.000</td>\n",
       "      <td>a78dff31-21b1-b5e3-53c9-cacb5f32eeb5</td>\n",
       "    </tr>\n",
       "  </tbody>\n",
       "</table>\n",
       "<p>5 rows × 33 columns</p>\n",
       "</div>"
      ],
      "text/plain": [
       "   original_efficiency  mental_recovery  factor_01  factor_02  factor_03  \\\n",
       "0                  NaN              NaN        NaN        NaN        NaN   \n",
       "1                  NaN              NaN        NaN        NaN        NaN   \n",
       "2                  NaN              NaN        NaN        NaN        NaN   \n",
       "3                  NaN              NaN        NaN        NaN        NaN   \n",
       "4                  NaN              NaN        NaN        NaN        NaN   \n",
       "\n",
       "   factor_04  factor_05  factor_06  factor_07  factor_08  ...  \\\n",
       "0        NaN        NaN        NaN        NaN        NaN  ...   \n",
       "1        NaN        NaN        NaN        NaN        NaN  ...   \n",
       "2        NaN        NaN        NaN        NaN        NaN  ...   \n",
       "3        NaN        NaN        NaN        NaN        NaN  ...   \n",
       "4        NaN        NaN        NaN        NaN        NaN  ...   \n",
       "\n",
       "   com.samsung.health.sleep.start_time  com.samsung.health.sleep.custom  \\\n",
       "0              2015-11-27 14:00:00.000                              NaN   \n",
       "1              2019-04-14 14:59:00.000                              NaN   \n",
       "2              2019-04-01 16:19:00.000                              NaN   \n",
       "3              2019-03-26 16:16:00.000                              NaN   \n",
       "4              2019-05-06 15:35:00.000                              NaN   \n",
       "\n",
       "   com.samsung.health.sleep.update_time  com.samsung.health.sleep.create_time  \\\n",
       "0               2015-11-28 05:15:48.725               2015-11-28 05:15:48.725   \n",
       "1               2019-04-14 23:11:08.179               2019-04-14 23:11:08.179   \n",
       "2               2019-04-01 23:03:48.567               2019-04-01 23:03:48.567   \n",
       "3               2019-03-26 23:20:13.761               2019-03-26 23:20:13.761   \n",
       "4               2019-05-06 22:46:32.612               2019-05-06 22:46:32.612   \n",
       "\n",
       "   com.samsung.health.sleep.time_offset  com.samsung.health.sleep.deviceuuid  \\\n",
       "0                              UTC+0900                           uDv1iH1IMs   \n",
       "1                              UTC+0900                           NZJQ7Yrbs4   \n",
       "2                              UTC+0900                           NZJQ7Yrbs4   \n",
       "3                              UTC+0900                           NZJQ7Yrbs4   \n",
       "4                              UTC+0900                           NZJQ7Yrbs4   \n",
       "\n",
       "   com.samsung.health.sleep.comment  com.samsung.health.sleep.pkg_name  \\\n",
       "0                               NaN        com.sec.android.app.shealth   \n",
       "1                               NaN        com.sec.android.app.shealth   \n",
       "2                               NaN        com.sec.android.app.shealth   \n",
       "3                               NaN        com.sec.android.app.shealth   \n",
       "4                               NaN        com.sec.android.app.shealth   \n",
       "\n",
       "  com.samsung.health.sleep.end_time     com.samsung.health.sleep.datauuid  \n",
       "0           2015-11-27 22:00:00.000  8a100cbc-135d-4b19-a51f-928fc248bfa0  \n",
       "1           2019-04-14 23:10:00.000  af53d2f3-b420-fc9f-eb16-40fdec013337  \n",
       "2           2019-04-01 22:55:00.000  dcdbaeb8-075e-5040-eec4-16860ef1ab5a  \n",
       "3           2019-03-26 23:16:00.000  f8425fff-e84e-cd7c-faf4-18040176918c  \n",
       "4           2019-05-06 22:36:00.000  a78dff31-21b1-b5e3-53c9-cacb5f32eeb5  \n",
       "\n",
       "[5 rows x 33 columns]"
      ]
     },
     "execution_count": 113,
     "metadata": {},
     "output_type": "execute_result"
    }
   ],
   "source": [
    "sleep_df.head(5)"
   ]
  },
  {
   "cell_type": "code",
   "execution_count": 114,
   "metadata": {},
   "outputs": [
    {
     "name": "stdout",
     "output_type": "stream",
     "text": [
      "<class 'pandas.core.frame.DataFrame'>\n",
      "RangeIndex: 435 entries, 0 to 434\n",
      "Data columns (total 33 columns):\n",
      " #   Column                                Non-Null Count  Dtype  \n",
      "---  ------                                --------------  -----  \n",
      " 0   original_efficiency                   0 non-null      float64\n",
      " 1   mental_recovery                       0 non-null      float64\n",
      " 2   factor_01                             0 non-null      float64\n",
      " 3   factor_02                             0 non-null      float64\n",
      " 4   factor_03                             0 non-null      float64\n",
      " 5   factor_04                             0 non-null      float64\n",
      " 6   factor_05                             0 non-null      float64\n",
      " 7   factor_06                             0 non-null      float64\n",
      " 8   factor_07                             0 non-null      float64\n",
      " 9   factor_08                             0 non-null      float64\n",
      " 10  factor_09                             0 non-null      float64\n",
      " 11  factor_10                             0 non-null      float64\n",
      " 12  has_sleep_data                        420 non-null    float64\n",
      " 13  physical_recovery                     0 non-null      float64\n",
      " 14  original_wake_up_time                 0 non-null      float64\n",
      " 15  movement_awakening                    0 non-null      float64\n",
      " 16  original_bed_time                     0 non-null      float64\n",
      " 17  quality                               15 non-null     float64\n",
      " 18  extra_data                            304 non-null    object \n",
      " 19  sleep_cycle                           0 non-null      float64\n",
      " 20  efficiency                            435 non-null    float64\n",
      " 21  sleep_score                           0 non-null      float64\n",
      " 22  sleep_duration                        0 non-null      float64\n",
      " 23  com.samsung.health.sleep.start_time   435 non-null    object \n",
      " 24  com.samsung.health.sleep.custom       0 non-null      float64\n",
      " 25  com.samsung.health.sleep.update_time  435 non-null    object \n",
      " 26  com.samsung.health.sleep.create_time  435 non-null    object \n",
      " 27  com.samsung.health.sleep.time_offset  435 non-null    object \n",
      " 28  com.samsung.health.sleep.deviceuuid   435 non-null    object \n",
      " 29  com.samsung.health.sleep.comment      0 non-null      float64\n",
      " 30  com.samsung.health.sleep.pkg_name     435 non-null    object \n",
      " 31  com.samsung.health.sleep.end_time     435 non-null    object \n",
      " 32  com.samsung.health.sleep.datauuid     435 non-null    object \n",
      "dtypes: float64(24), object(9)\n",
      "memory usage: 112.3+ KB\n"
     ]
    }
   ],
   "source": [
    "sleep_df.info()"
   ]
  },
  {
   "cell_type": "markdown",
   "metadata": {},
   "source": [
    "불필요한 Colummn 을 삭제하자.\n",
    " - 모든 값이 NA인  Column\n",
    " - 모든 값이동일한 Column"
   ]
  },
  {
   "cell_type": "code",
   "execution_count": 115,
   "metadata": {},
   "outputs": [],
   "source": [
    "sleep_df.drop(['original_efficiency', 'mental_recovery', 'factor_01', 'factor_02',\n",
    "       'factor_03', 'factor_04', 'factor_05', 'factor_06', 'factor_07',\n",
    "       'factor_08', 'factor_09', 'factor_10', 'has_sleep_data',\n",
    "       'physical_recovery', 'original_wake_up_time', 'movement_awakening',\n",
    "       'original_bed_time', 'quality', 'extra_data', 'sleep_cycle', \n",
    "    'sleep_score', 'sleep_duration', 'com.samsung.health.sleep.custom','com.samsung.health.sleep.comment'], axis=1, inplace=True)"
   ]
  },
  {
   "cell_type": "code",
   "execution_count": 116,
   "metadata": {},
   "outputs": [
    {
     "data": {
      "text/html": [
       "<div>\n",
       "<style scoped>\n",
       "    .dataframe tbody tr th:only-of-type {\n",
       "        vertical-align: middle;\n",
       "    }\n",
       "\n",
       "    .dataframe tbody tr th {\n",
       "        vertical-align: top;\n",
       "    }\n",
       "\n",
       "    .dataframe thead th {\n",
       "        text-align: right;\n",
       "    }\n",
       "</style>\n",
       "<table border=\"1\" class=\"dataframe\">\n",
       "  <thead>\n",
       "    <tr style=\"text-align: right;\">\n",
       "      <th></th>\n",
       "      <th>efficiency</th>\n",
       "      <th>com.samsung.health.sleep.start_time</th>\n",
       "      <th>com.samsung.health.sleep.update_time</th>\n",
       "      <th>com.samsung.health.sleep.create_time</th>\n",
       "      <th>com.samsung.health.sleep.time_offset</th>\n",
       "      <th>com.samsung.health.sleep.deviceuuid</th>\n",
       "      <th>com.samsung.health.sleep.pkg_name</th>\n",
       "      <th>com.samsung.health.sleep.end_time</th>\n",
       "      <th>com.samsung.health.sleep.datauuid</th>\n",
       "    </tr>\n",
       "  </thead>\n",
       "  <tbody>\n",
       "    <tr>\n",
       "      <th>0</th>\n",
       "      <td>0.0</td>\n",
       "      <td>2015-11-27 14:00:00.000</td>\n",
       "      <td>2015-11-28 05:15:48.725</td>\n",
       "      <td>2015-11-28 05:15:48.725</td>\n",
       "      <td>UTC+0900</td>\n",
       "      <td>uDv1iH1IMs</td>\n",
       "      <td>com.sec.android.app.shealth</td>\n",
       "      <td>2015-11-27 22:00:00.000</td>\n",
       "      <td>8a100cbc-135d-4b19-a51f-928fc248bfa0</td>\n",
       "    </tr>\n",
       "    <tr>\n",
       "      <th>1</th>\n",
       "      <td>83.0</td>\n",
       "      <td>2019-04-14 14:59:00.000</td>\n",
       "      <td>2019-04-14 23:11:08.179</td>\n",
       "      <td>2019-04-14 23:11:08.179</td>\n",
       "      <td>UTC+0900</td>\n",
       "      <td>NZJQ7Yrbs4</td>\n",
       "      <td>com.sec.android.app.shealth</td>\n",
       "      <td>2019-04-14 23:10:00.000</td>\n",
       "      <td>af53d2f3-b420-fc9f-eb16-40fdec013337</td>\n",
       "    </tr>\n",
       "    <tr>\n",
       "      <th>2</th>\n",
       "      <td>86.0</td>\n",
       "      <td>2019-04-01 16:19:00.000</td>\n",
       "      <td>2019-04-01 23:03:48.567</td>\n",
       "      <td>2019-04-01 23:03:48.567</td>\n",
       "      <td>UTC+0900</td>\n",
       "      <td>NZJQ7Yrbs4</td>\n",
       "      <td>com.sec.android.app.shealth</td>\n",
       "      <td>2019-04-01 22:55:00.000</td>\n",
       "      <td>dcdbaeb8-075e-5040-eec4-16860ef1ab5a</td>\n",
       "    </tr>\n",
       "    <tr>\n",
       "      <th>3</th>\n",
       "      <td>84.0</td>\n",
       "      <td>2019-03-26 16:16:00.000</td>\n",
       "      <td>2019-03-26 23:20:13.761</td>\n",
       "      <td>2019-03-26 23:20:13.761</td>\n",
       "      <td>UTC+0900</td>\n",
       "      <td>NZJQ7Yrbs4</td>\n",
       "      <td>com.sec.android.app.shealth</td>\n",
       "      <td>2019-03-26 23:16:00.000</td>\n",
       "      <td>f8425fff-e84e-cd7c-faf4-18040176918c</td>\n",
       "    </tr>\n",
       "    <tr>\n",
       "      <th>4</th>\n",
       "      <td>84.0</td>\n",
       "      <td>2019-05-06 15:35:00.000</td>\n",
       "      <td>2019-05-06 22:46:32.612</td>\n",
       "      <td>2019-05-06 22:46:32.612</td>\n",
       "      <td>UTC+0900</td>\n",
       "      <td>NZJQ7Yrbs4</td>\n",
       "      <td>com.sec.android.app.shealth</td>\n",
       "      <td>2019-05-06 22:36:00.000</td>\n",
       "      <td>a78dff31-21b1-b5e3-53c9-cacb5f32eeb5</td>\n",
       "    </tr>\n",
       "  </tbody>\n",
       "</table>\n",
       "</div>"
      ],
      "text/plain": [
       "   efficiency com.samsung.health.sleep.start_time  \\\n",
       "0         0.0             2015-11-27 14:00:00.000   \n",
       "1        83.0             2019-04-14 14:59:00.000   \n",
       "2        86.0             2019-04-01 16:19:00.000   \n",
       "3        84.0             2019-03-26 16:16:00.000   \n",
       "4        84.0             2019-05-06 15:35:00.000   \n",
       "\n",
       "  com.samsung.health.sleep.update_time com.samsung.health.sleep.create_time  \\\n",
       "0              2015-11-28 05:15:48.725              2015-11-28 05:15:48.725   \n",
       "1              2019-04-14 23:11:08.179              2019-04-14 23:11:08.179   \n",
       "2              2019-04-01 23:03:48.567              2019-04-01 23:03:48.567   \n",
       "3              2019-03-26 23:20:13.761              2019-03-26 23:20:13.761   \n",
       "4              2019-05-06 22:46:32.612              2019-05-06 22:46:32.612   \n",
       "\n",
       "  com.samsung.health.sleep.time_offset com.samsung.health.sleep.deviceuuid  \\\n",
       "0                             UTC+0900                          uDv1iH1IMs   \n",
       "1                             UTC+0900                          NZJQ7Yrbs4   \n",
       "2                             UTC+0900                          NZJQ7Yrbs4   \n",
       "3                             UTC+0900                          NZJQ7Yrbs4   \n",
       "4                             UTC+0900                          NZJQ7Yrbs4   \n",
       "\n",
       "  com.samsung.health.sleep.pkg_name com.samsung.health.sleep.end_time  \\\n",
       "0       com.sec.android.app.shealth           2015-11-27 22:00:00.000   \n",
       "1       com.sec.android.app.shealth           2019-04-14 23:10:00.000   \n",
       "2       com.sec.android.app.shealth           2019-04-01 22:55:00.000   \n",
       "3       com.sec.android.app.shealth           2019-03-26 23:16:00.000   \n",
       "4       com.sec.android.app.shealth           2019-05-06 22:36:00.000   \n",
       "\n",
       "      com.samsung.health.sleep.datauuid  \n",
       "0  8a100cbc-135d-4b19-a51f-928fc248bfa0  \n",
       "1  af53d2f3-b420-fc9f-eb16-40fdec013337  \n",
       "2  dcdbaeb8-075e-5040-eec4-16860ef1ab5a  \n",
       "3  f8425fff-e84e-cd7c-faf4-18040176918c  \n",
       "4  a78dff31-21b1-b5e3-53c9-cacb5f32eeb5  "
      ]
     },
     "execution_count": 116,
     "metadata": {},
     "output_type": "execute_result"
    }
   ],
   "source": [
    "sleep_df.head(5)"
   ]
  },
  {
   "cell_type": "code",
   "execution_count": 117,
   "metadata": {},
   "outputs": [
    {
     "data": {
      "text/plain": [
       "Index(['efficiency', 'com.samsung.health.sleep.start_time',\n",
       "       'com.samsung.health.sleep.update_time',\n",
       "       'com.samsung.health.sleep.create_time',\n",
       "       'com.samsung.health.sleep.time_offset',\n",
       "       'com.samsung.health.sleep.deviceuuid',\n",
       "       'com.samsung.health.sleep.pkg_name',\n",
       "       'com.samsung.health.sleep.end_time',\n",
       "       'com.samsung.health.sleep.datauuid'],\n",
       "      dtype='object')"
      ]
     },
     "execution_count": 117,
     "metadata": {},
     "output_type": "execute_result"
    }
   ],
   "source": [
    "sleep_df.columns"
   ]
  },
  {
   "cell_type": "markdown",
   "metadata": {},
   "source": [
    "column 이름이 너무 길다.  column 이름을 줄여보자"
   ]
  },
  {
   "cell_type": "code",
   "execution_count": 118,
   "metadata": {},
   "outputs": [],
   "source": [
    "new_columns = [c.replace('com.samsung.health.sleep.', '')  for c in sleep_df.columns.values ]"
   ]
  },
  {
   "cell_type": "code",
   "execution_count": 119,
   "metadata": {},
   "outputs": [
    {
     "data": {
      "text/plain": [
       "['efficiency',\n",
       " 'start_time',\n",
       " 'update_time',\n",
       " 'create_time',\n",
       " 'time_offset',\n",
       " 'deviceuuid',\n",
       " 'pkg_name',\n",
       " 'end_time',\n",
       " 'datauuid']"
      ]
     },
     "execution_count": 119,
     "metadata": {},
     "output_type": "execute_result"
    }
   ],
   "source": [
    "new_columns"
   ]
  },
  {
   "cell_type": "code",
   "execution_count": 120,
   "metadata": {},
   "outputs": [],
   "source": [
    "new_columns_dic =  dict(zip(sleep_df.columns.values , [c.replace('com.samsung.health.sleep.', '')  for c in sleep_df.columns.values]  ))"
   ]
  },
  {
   "cell_type": "code",
   "execution_count": 121,
   "metadata": {},
   "outputs": [
    {
     "data": {
      "text/plain": [
       "{'efficiency': 'efficiency',\n",
       " 'com.samsung.health.sleep.start_time': 'start_time',\n",
       " 'com.samsung.health.sleep.update_time': 'update_time',\n",
       " 'com.samsung.health.sleep.create_time': 'create_time',\n",
       " 'com.samsung.health.sleep.time_offset': 'time_offset',\n",
       " 'com.samsung.health.sleep.deviceuuid': 'deviceuuid',\n",
       " 'com.samsung.health.sleep.pkg_name': 'pkg_name',\n",
       " 'com.samsung.health.sleep.end_time': 'end_time',\n",
       " 'com.samsung.health.sleep.datauuid': 'datauuid'}"
      ]
     },
     "execution_count": 121,
     "metadata": {},
     "output_type": "execute_result"
    }
   ],
   "source": [
    "new_columns_dic "
   ]
  },
  {
   "cell_type": "code",
   "execution_count": 122,
   "metadata": {},
   "outputs": [],
   "source": [
    "sleep_df.rename(new_columns_dic, axis=1, inplace=1)"
   ]
  },
  {
   "cell_type": "code",
   "execution_count": 124,
   "metadata": {},
   "outputs": [
    {
     "data": {
      "text/html": [
       "<div>\n",
       "<style scoped>\n",
       "    .dataframe tbody tr th:only-of-type {\n",
       "        vertical-align: middle;\n",
       "    }\n",
       "\n",
       "    .dataframe tbody tr th {\n",
       "        vertical-align: top;\n",
       "    }\n",
       "\n",
       "    .dataframe thead th {\n",
       "        text-align: right;\n",
       "    }\n",
       "</style>\n",
       "<table border=\"1\" class=\"dataframe\">\n",
       "  <thead>\n",
       "    <tr style=\"text-align: right;\">\n",
       "      <th></th>\n",
       "      <th>efficiency</th>\n",
       "      <th>start_time</th>\n",
       "      <th>update_time</th>\n",
       "      <th>create_time</th>\n",
       "      <th>time_offset</th>\n",
       "      <th>deviceuuid</th>\n",
       "      <th>pkg_name</th>\n",
       "      <th>end_time</th>\n",
       "      <th>datauuid</th>\n",
       "    </tr>\n",
       "  </thead>\n",
       "  <tbody>\n",
       "    <tr>\n",
       "      <th>0</th>\n",
       "      <td>0.0</td>\n",
       "      <td>2015-11-27 14:00:00.000</td>\n",
       "      <td>2015-11-28 05:15:48.725</td>\n",
       "      <td>2015-11-28 05:15:48.725</td>\n",
       "      <td>UTC+0900</td>\n",
       "      <td>uDv1iH1IMs</td>\n",
       "      <td>com.sec.android.app.shealth</td>\n",
       "      <td>2015-11-27 22:00:00.000</td>\n",
       "      <td>8a100cbc-135d-4b19-a51f-928fc248bfa0</td>\n",
       "    </tr>\n",
       "    <tr>\n",
       "      <th>1</th>\n",
       "      <td>83.0</td>\n",
       "      <td>2019-04-14 14:59:00.000</td>\n",
       "      <td>2019-04-14 23:11:08.179</td>\n",
       "      <td>2019-04-14 23:11:08.179</td>\n",
       "      <td>UTC+0900</td>\n",
       "      <td>NZJQ7Yrbs4</td>\n",
       "      <td>com.sec.android.app.shealth</td>\n",
       "      <td>2019-04-14 23:10:00.000</td>\n",
       "      <td>af53d2f3-b420-fc9f-eb16-40fdec013337</td>\n",
       "    </tr>\n",
       "    <tr>\n",
       "      <th>2</th>\n",
       "      <td>86.0</td>\n",
       "      <td>2019-04-01 16:19:00.000</td>\n",
       "      <td>2019-04-01 23:03:48.567</td>\n",
       "      <td>2019-04-01 23:03:48.567</td>\n",
       "      <td>UTC+0900</td>\n",
       "      <td>NZJQ7Yrbs4</td>\n",
       "      <td>com.sec.android.app.shealth</td>\n",
       "      <td>2019-04-01 22:55:00.000</td>\n",
       "      <td>dcdbaeb8-075e-5040-eec4-16860ef1ab5a</td>\n",
       "    </tr>\n",
       "    <tr>\n",
       "      <th>3</th>\n",
       "      <td>84.0</td>\n",
       "      <td>2019-03-26 16:16:00.000</td>\n",
       "      <td>2019-03-26 23:20:13.761</td>\n",
       "      <td>2019-03-26 23:20:13.761</td>\n",
       "      <td>UTC+0900</td>\n",
       "      <td>NZJQ7Yrbs4</td>\n",
       "      <td>com.sec.android.app.shealth</td>\n",
       "      <td>2019-03-26 23:16:00.000</td>\n",
       "      <td>f8425fff-e84e-cd7c-faf4-18040176918c</td>\n",
       "    </tr>\n",
       "    <tr>\n",
       "      <th>4</th>\n",
       "      <td>84.0</td>\n",
       "      <td>2019-05-06 15:35:00.000</td>\n",
       "      <td>2019-05-06 22:46:32.612</td>\n",
       "      <td>2019-05-06 22:46:32.612</td>\n",
       "      <td>UTC+0900</td>\n",
       "      <td>NZJQ7Yrbs4</td>\n",
       "      <td>com.sec.android.app.shealth</td>\n",
       "      <td>2019-05-06 22:36:00.000</td>\n",
       "      <td>a78dff31-21b1-b5e3-53c9-cacb5f32eeb5</td>\n",
       "    </tr>\n",
       "  </tbody>\n",
       "</table>\n",
       "</div>"
      ],
      "text/plain": [
       "   efficiency               start_time              update_time  \\\n",
       "0         0.0  2015-11-27 14:00:00.000  2015-11-28 05:15:48.725   \n",
       "1        83.0  2019-04-14 14:59:00.000  2019-04-14 23:11:08.179   \n",
       "2        86.0  2019-04-01 16:19:00.000  2019-04-01 23:03:48.567   \n",
       "3        84.0  2019-03-26 16:16:00.000  2019-03-26 23:20:13.761   \n",
       "4        84.0  2019-05-06 15:35:00.000  2019-05-06 22:46:32.612   \n",
       "\n",
       "               create_time time_offset  deviceuuid  \\\n",
       "0  2015-11-28 05:15:48.725    UTC+0900  uDv1iH1IMs   \n",
       "1  2019-04-14 23:11:08.179    UTC+0900  NZJQ7Yrbs4   \n",
       "2  2019-04-01 23:03:48.567    UTC+0900  NZJQ7Yrbs4   \n",
       "3  2019-03-26 23:20:13.761    UTC+0900  NZJQ7Yrbs4   \n",
       "4  2019-05-06 22:46:32.612    UTC+0900  NZJQ7Yrbs4   \n",
       "\n",
       "                      pkg_name                 end_time  \\\n",
       "0  com.sec.android.app.shealth  2015-11-27 22:00:00.000   \n",
       "1  com.sec.android.app.shealth  2019-04-14 23:10:00.000   \n",
       "2  com.sec.android.app.shealth  2019-04-01 22:55:00.000   \n",
       "3  com.sec.android.app.shealth  2019-03-26 23:16:00.000   \n",
       "4  com.sec.android.app.shealth  2019-05-06 22:36:00.000   \n",
       "\n",
       "                               datauuid  \n",
       "0  8a100cbc-135d-4b19-a51f-928fc248bfa0  \n",
       "1  af53d2f3-b420-fc9f-eb16-40fdec013337  \n",
       "2  dcdbaeb8-075e-5040-eec4-16860ef1ab5a  \n",
       "3  f8425fff-e84e-cd7c-faf4-18040176918c  \n",
       "4  a78dff31-21b1-b5e3-53c9-cacb5f32eeb5  "
      ]
     },
     "execution_count": 124,
     "metadata": {},
     "output_type": "execute_result"
    }
   ],
   "source": [
    "sleep_df.head(5)"
   ]
  },
  {
   "cell_type": "code",
   "execution_count": 125,
   "metadata": {},
   "outputs": [
    {
     "name": "stdout",
     "output_type": "stream",
     "text": [
      "<class 'pandas.core.frame.DataFrame'>\n",
      "RangeIndex: 435 entries, 0 to 434\n",
      "Data columns (total 9 columns):\n",
      " #   Column       Non-Null Count  Dtype  \n",
      "---  ------       --------------  -----  \n",
      " 0   efficiency   435 non-null    float64\n",
      " 1   start_time   435 non-null    object \n",
      " 2   update_time  435 non-null    object \n",
      " 3   create_time  435 non-null    object \n",
      " 4   time_offset  435 non-null    object \n",
      " 5   deviceuuid   435 non-null    object \n",
      " 6   pkg_name     435 non-null    object \n",
      " 7   end_time     435 non-null    object \n",
      " 8   datauuid     435 non-null    object \n",
      "dtypes: float64(1), object(8)\n",
      "memory usage: 30.7+ KB\n"
     ]
    }
   ],
   "source": [
    "sleep_df.info()"
   ]
  },
  {
   "cell_type": "code",
   "execution_count": 154,
   "metadata": {},
   "outputs": [],
   "source": [
    "sleep_df['start_time'] = pd.to_datetime(sleep_df['start_time'])\n",
    "sleep_df['update_time'] = pd.to_datetime(sleep_df['update_time'])\n",
    "sleep_df['create_time'] = pd.to_datetime(sleep_df['create_time'])\n",
    "sleep_df['end_time'] = pd.to_datetime(sleep_df['end_time'])"
   ]
  },
  {
   "cell_type": "code",
   "execution_count": 155,
   "metadata": {},
   "outputs": [
    {
     "name": "stdout",
     "output_type": "stream",
     "text": [
      "<class 'pandas.core.frame.DataFrame'>\n",
      "RangeIndex: 435 entries, 0 to 434\n",
      "Data columns (total 9 columns):\n",
      " #   Column       Non-Null Count  Dtype         \n",
      "---  ------       --------------  -----         \n",
      " 0   efficiency   435 non-null    float64       \n",
      " 1   start_time   435 non-null    datetime64[ns]\n",
      " 2   update_time  435 non-null    datetime64[ns]\n",
      " 3   create_time  435 non-null    datetime64[ns]\n",
      " 4   time_offset  435 non-null    object        \n",
      " 5   deviceuuid   435 non-null    object        \n",
      " 6   pkg_name     435 non-null    object        \n",
      " 7   end_time     435 non-null    datetime64[ns]\n",
      " 8   datauuid     435 non-null    object        \n",
      "dtypes: datetime64[ns](4), float64(1), object(4)\n",
      "memory usage: 30.7+ KB\n"
     ]
    }
   ],
   "source": [
    "sleep_df.info()"
   ]
  },
  {
   "cell_type": "code",
   "execution_count": 156,
   "metadata": {},
   "outputs": [
    {
     "data": {
      "text/plain": [
       "0     2015-11-27 23:00:00+09:00\n",
       "1     2019-04-14 23:59:00+09:00\n",
       "2     2019-04-02 01:19:00+09:00\n",
       "3     2019-03-27 01:16:00+09:00\n",
       "4     2019-05-07 00:35:00+09:00\n",
       "                 ...           \n",
       "430   2020-12-20 06:38:00+09:00\n",
       "431   2020-12-24 00:07:00+09:00\n",
       "432   2020-12-29 00:22:00+09:00\n",
       "433   2021-01-02 21:39:00+09:00\n",
       "434   2021-01-07 01:06:00+09:00\n",
       "Name: start_time, Length: 435, dtype: datetime64[ns, Asia/Seoul]"
      ]
     },
     "execution_count": 156,
     "metadata": {},
     "output_type": "execute_result"
    }
   ],
   "source": [
    "sleep_df['start_time'].dt.tz_localize('UTC').dt.tz_convert('Asia/Seoul')"
   ]
  },
  {
   "cell_type": "code",
   "execution_count": null,
   "metadata": {},
   "outputs": [],
   "source": []
  },
  {
   "cell_type": "code",
   "execution_count": 157,
   "metadata": {},
   "outputs": [
    {
     "data": {
      "text/plain": [
       "NZJQ7Yrbs4    186\n",
       "DJo8vkp+Bl    115\n",
       "NHQ4s4ZY05    106\n",
       "uDv1iH1IMs      9\n",
       "fc6oCO2Qik      9\n",
       "Dl8L2b9Gg3      4\n",
       "GmuukhNhxx      3\n",
       "IOsi0gHZq8      2\n",
       "/qAMI8DMGU      1\n",
       "Name: deviceuuid, dtype: int64"
      ]
     },
     "execution_count": 157,
     "metadata": {},
     "output_type": "execute_result"
    }
   ],
   "source": [
    "sleep_df['deviceuuid'].value_counts()"
   ]
  },
  {
   "cell_type": "code",
   "execution_count": 158,
   "metadata": {},
   "outputs": [],
   "source": [
    "fit2_df = sleep_df.loc[sleep_df['deviceuuid'] == 'DJo8vkp+Bl' ]"
   ]
  },
  {
   "cell_type": "code",
   "execution_count": 159,
   "metadata": {},
   "outputs": [
    {
     "data": {
      "text/html": [
       "<div>\n",
       "<style scoped>\n",
       "    .dataframe tbody tr th:only-of-type {\n",
       "        vertical-align: middle;\n",
       "    }\n",
       "\n",
       "    .dataframe tbody tr th {\n",
       "        vertical-align: top;\n",
       "    }\n",
       "\n",
       "    .dataframe thead th {\n",
       "        text-align: right;\n",
       "    }\n",
       "</style>\n",
       "<table border=\"1\" class=\"dataframe\">\n",
       "  <thead>\n",
       "    <tr style=\"text-align: right;\">\n",
       "      <th></th>\n",
       "      <th>efficiency</th>\n",
       "      <th>start_time</th>\n",
       "      <th>update_time</th>\n",
       "      <th>create_time</th>\n",
       "      <th>time_offset</th>\n",
       "      <th>deviceuuid</th>\n",
       "      <th>pkg_name</th>\n",
       "      <th>end_time</th>\n",
       "      <th>datauuid</th>\n",
       "    </tr>\n",
       "  </thead>\n",
       "  <tbody>\n",
       "    <tr>\n",
       "      <th>53</th>\n",
       "      <td>91.46667</td>\n",
       "      <td>2020-10-10 16:15:00</td>\n",
       "      <td>2020-10-10 16:15:44</td>\n",
       "      <td>2020-10-10 22:28:00</td>\n",
       "      <td>UTC+0900</td>\n",
       "      <td>DJo8vkp+Bl</td>\n",
       "      <td>com.sec.android.app.shealth</td>\n",
       "      <td>2020-10-10 22:28:00</td>\n",
       "      <td>00000000-0000-0000-0000-000062cd1dec</td>\n",
       "    </tr>\n",
       "    <tr>\n",
       "      <th>54</th>\n",
       "      <td>90.51095</td>\n",
       "      <td>2020-10-14 15:22:00</td>\n",
       "      <td>2020-10-14 15:22:00</td>\n",
       "      <td>2020-10-14 17:37:00</td>\n",
       "      <td>UTC+0900</td>\n",
       "      <td>DJo8vkp+Bl</td>\n",
       "      <td>com.sec.android.app.shealth</td>\n",
       "      <td>2020-10-14 17:37:00</td>\n",
       "      <td>00000000-0000-0000-0000-000074f4674d</td>\n",
       "    </tr>\n",
       "    <tr>\n",
       "      <th>55</th>\n",
       "      <td>87.88660</td>\n",
       "      <td>2020-10-17 16:02:00</td>\n",
       "      <td>2020-10-17 16:02:55</td>\n",
       "      <td>2020-10-17 22:27:00</td>\n",
       "      <td>UTC+0900</td>\n",
       "      <td>DJo8vkp+Bl</td>\n",
       "      <td>com.sec.android.app.shealth</td>\n",
       "      <td>2020-10-17 22:27:00</td>\n",
       "      <td>00000000-0000-0000-0000-00006b2ab79b</td>\n",
       "    </tr>\n",
       "  </tbody>\n",
       "</table>\n",
       "</div>"
      ],
      "text/plain": [
       "    efficiency          start_time         update_time         create_time  \\\n",
       "53    91.46667 2020-10-10 16:15:00 2020-10-10 16:15:44 2020-10-10 22:28:00   \n",
       "54    90.51095 2020-10-14 15:22:00 2020-10-14 15:22:00 2020-10-14 17:37:00   \n",
       "55    87.88660 2020-10-17 16:02:00 2020-10-17 16:02:55 2020-10-17 22:27:00   \n",
       "\n",
       "   time_offset  deviceuuid                     pkg_name            end_time  \\\n",
       "53    UTC+0900  DJo8vkp+Bl  com.sec.android.app.shealth 2020-10-10 22:28:00   \n",
       "54    UTC+0900  DJo8vkp+Bl  com.sec.android.app.shealth 2020-10-14 17:37:00   \n",
       "55    UTC+0900  DJo8vkp+Bl  com.sec.android.app.shealth 2020-10-17 22:27:00   \n",
       "\n",
       "                                datauuid  \n",
       "53  00000000-0000-0000-0000-000062cd1dec  \n",
       "54  00000000-0000-0000-0000-000074f4674d  \n",
       "55  00000000-0000-0000-0000-00006b2ab79b  "
      ]
     },
     "execution_count": 159,
     "metadata": {},
     "output_type": "execute_result"
    }
   ],
   "source": [
    "fit2_df.head(3)"
   ]
  },
  {
   "cell_type": "code",
   "execution_count": 162,
   "metadata": {},
   "outputs": [
    {
     "name": "stderr",
     "output_type": "stream",
     "text": [
      "<ipython-input-162-167a01252350>:1: SettingWithCopyWarning: \n",
      "A value is trying to be set on a copy of a slice from a DataFrame.\n",
      "Try using .loc[row_indexer,col_indexer] = value instead\n",
      "\n",
      "See the caveats in the documentation: https://pandas.pydata.org/pandas-docs/stable/user_guide/indexing.html#returning-a-view-versus-a-copy\n",
      "  fit2_df['slept'] = fit2_df['end_time'] - fit2_df['start_time']\n"
     ]
    }
   ],
   "source": [
    "fit2_df['slept'] = fit2_df['end_time'] - fit2_df['start_time']"
   ]
  },
  {
   "cell_type": "code",
   "execution_count": 176,
   "metadata": {},
   "outputs": [
    {
     "name": "stderr",
     "output_type": "stream",
     "text": [
      "<ipython-input-176-0a74afef7dff>:1: SettingWithCopyWarning: \n",
      "A value is trying to be set on a copy of a slice from a DataFrame.\n",
      "Try using .loc[row_indexer,col_indexer] = value instead\n",
      "\n",
      "See the caveats in the documentation: https://pandas.pydata.org/pandas-docs/stable/user_guide/indexing.html#returning-a-view-versus-a-copy\n",
      "  fit2_df['slept_hour'] = fit2_df['slept'].dt.total_seconds() /3600\n"
     ]
    }
   ],
   "source": [
    "fit2_df['slept_hour'] = fit2_df['slept'].dt.total_seconds() /3600"
   ]
  },
  {
   "cell_type": "code",
   "execution_count": 181,
   "metadata": {},
   "outputs": [
    {
     "data": {
      "text/plain": [
       "<AxesSubplot:>"
      ]
     },
     "execution_count": 181,
     "metadata": {},
     "output_type": "execute_result"
    },
    {
     "data": {
      "image/png": "[encoded data removed]",
      "text/plain": [
       "<Figure size 432x288 with 1 Axes>"
      ]
     },
     "metadata": {
      "needs_background": "light"
     },
     "output_type": "display_data"
    }
   ],
   "source": [
    "fit2_df['slept_hour'].plot(kind='bar')"
   ]
  },
  {
   "cell_type": "code",
   "execution_count": null,
   "metadata": {},
   "outputs": [],
   "source": []
  },
  {
   "cell_type": "code",
   "execution_count": null,
   "metadata": {},
   "outputs": [],
   "source": []
  }
 ],
 "metadata": {
  "kernelspec": {
   "display_name": "Python 3",
   "language": "python",
   "name": "python3"
  },
  "language_info": {
   "codemirror_mode": {
    "name": "ipython",
    "version": 3
   },
   "file_extension": ".py",
   "mimetype": "text/x-python",
   "name": "python",
   "nbconvert_exporter": "python",
   "pygments_lexer": "ipython3",
   "version": "3.8.5"
  }
 },
 "nbformat": 4,
 "nbformat_minor": 4
}
